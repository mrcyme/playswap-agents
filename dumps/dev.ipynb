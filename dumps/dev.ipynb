{
 "cells": [
  {
   "cell_type": "code",
   "execution_count": 1,
   "metadata": {},
   "outputs": [],
   "source": [
    "import requests\n",
    "from bs4 import BeautifulSoup\n",
    "import datetime\n",
    "import json\n",
    "import os\n",
    "import dateparser\n",
    "import urllib.parse\n",
    "from openai import OpenAI\n",
    "# selenium 4\n",
    "from selenium import webdriver\n",
    "from selenium.webdriver.chrome.service import Service as ChromiumService\n",
    "from selenium.webdriver.common.by import By\n",
    "from webdriver_manager.chrome import ChromeDriverManager\n",
    "from webdriver_manager.core.os_manager import ChromeType\n",
    "from selenium.webdriver.support.ui import WebDriverWait\n",
    "\n",
    "#from langchain.utilities import GoogleSearchAPIWrapper\n",
    "with open(\"./keys.json\", 'r') as j:\n",
    "    keys = json.loads(j.read())\n",
    "    os.environ[\"OPENAI_API_KEY\"] = keys[\"OPENAI_API_KEY\"]\n",
    "    os.environ[\"GOOGLE_API_KEY\"] = keys[\"GOOGLE_API_KEY\"]\n"
   ]
  },
  {
   "cell_type": "code",
   "execution_count": 2,
   "metadata": {},
   "outputs": [],
   "source": [
    "def scrap_text_bs4(url: str) -> str:\n",
    "    \"\"\"\n",
    "    get all the text of a webpage from the url\n",
    "    \"\"\"\n",
    "    headers = { 'User-Agent': 'Mozilla/5.0 (X11; Ubuntu; Linux x86_64; rv:52.0) Gecko/20100101 Firefox/52.0' }\n",
    "    html = requests.get(url, headers=headers).text\n",
    "    soup = BeautifulSoup(html, features=\"html.parser\")\n",
    "    text = soup.get_text()\n",
    "    lines = (line.strip() for line in text.splitlines())\n",
    "    return '\\n'.join(line for line in lines if line)\n",
    "\n",
    "def scrap_text_selenium(url: str) -> str:\n",
    "    driver = webdriver.Chrome(service=ChromiumService(ChromeDriverManager(chrome_type=ChromeType.CHROMIUM).install()))\n",
    "        # Setup Selenium WebDriver\n",
    "    # Open the webpage\n",
    "    driver.get(url)\n",
    "\n",
    "    # Wait for JavaScript to load (if necessary)\n",
    "    WebDriverWait(driver, 10).until(lambda d: d.execute_script('return jQuery.active == 0'))\n",
    "\n",
    "    # Extract all text from the webpage\n",
    "    text = driver.find_element(By.TAG_NAME, 'body').text\n",
    "    driver.quit()\n",
    "\n",
    "    return text\n"
   ]
  },
  {
   "cell_type": "code",
   "execution_count": 3,
   "metadata": {},
   "outputs": [
    {
     "data": {
      "text/plain": [
       "'CRÉER MON COMPTE\\nALBUMSARTISTESCOMMUNAUTÉVENTES\\nALBUMS À L’AFFICHE\\nMEILLEURS ALBUMS\\nAGENDA DES SORTIES\\nANNIVERSAIRES\\nTOUS LES ALBUMS\\nSansRefrain Albums Agenda des sorties rap français\\nAgenda des sorties rap français\\nToutes les sorties rap français de la semaine.\\nAbonnez-vous à un artiste pour être notifié de ses sorties albums et singles\\nSemaine du 13 novembre 2023\\n17\\nNOV\\nCASINO\\nLumjr\\n17\\nNOV\\nKAIJU: MECHA\\nDouble Zulu & Pablaw\\n17\\nNOV\\nera 24\\nRonisia\\n1,5\\n17\\nNOV\\nAmbition\\nGuy2Bezbar\\n1\\n17\\nNOV\\nRENÉGAT\\nMvms\\n17\\nNOV\\nCYNE\\nGEAVN\\n15\\nNOV\\nFenêtre ouverte\\nPeka59\\n15\\nNOV\\nMaintenant ou jamais\\nUrde\\n14\\nNOV\\nCoffret ultime\\nLorenzo\\n13\\nNOV\\nSorcellerie\\nWarlock\\nNotez. Critiquez. Soutenez.\\nMeilleurs albums de tous les temps\\nMeilleures ventes albums par semaine\\nProchaines sorties albums\\nAlbums anniversaires de la semaine\\nMeilleurs artistes rap français\\nArtistes les plus soutenus\\nCommunauté\\nLe projet SansRefrain\\nSoutenir un artiste\\nFAQ\\nPolitique de confidentialité\\nCGU\\nCookies\\nContactez-nous\\nSuivez-nous\\nRejoindre la communauté'"
      ]
     },
     "execution_count": 3,
     "metadata": {},
     "output_type": "execute_result"
    }
   ],
   "source": [
    "scrap_text_selenium(\"https://sansrefrain.fr/agenda-des-sorties-albums-et-singles-rap-francais/\")"
   ]
  },
  {
   "cell_type": "code",
   "execution_count": 7,
   "metadata": {},
   "outputs": [],
   "source": [
    "def google_search_playlists(query, n=3):\n",
    "    query = urllib.parse.quote(query)\n",
    "    url = f\"https://customsearch.googleapis.com/customsearch/v1?cx={keys['GOOGLE_CSE_ID_SPOTIFY']}&q={query}&key={keys['GOOGLE_API_KEY']}\"\n",
    "    resp = requests.get(url).json()\n",
    "    print(resp)\n",
    "    return [s[\"link\"] for s in resp[\"items\"][0:n]]\n",
    "\n",
    "\n",
    "def google_search_image(query):\n",
    "    query = urllib.parse.quote(query)\n",
    "    url = f\"https://customsearch.googleapis.com/customsearch/v1?cx={keys['GOOGLE_CSE_ID_IMAGE']}&imgSize=LARGE&imgType=photo&q={query}&searchType=image&key={keys['GOOGLE_API_KEY']}\"\n",
    "    resp = requests.get(url).json()\n",
    "    return resp[\"items\"][0][\"link\"]\n",
    "    "
   ]
  },
  {
   "cell_type": "code",
   "execution_count": 9,
   "metadata": {},
   "outputs": [
    {
     "name": "stdout",
     "output_type": "stream",
     "text": [
      "{'kind': 'customsearch#search', 'url': {'type': 'application/json', 'template': 'https://www.googleapis.com/customsearch/v1?q={searchTerms}&num={count?}&start={startIndex?}&lr={language?}&safe={safe?}&cx={cx?}&sort={sort?}&filter={filter?}&gl={gl?}&cr={cr?}&googlehost={googleHost?}&c2coff={disableCnTwTranslation?}&hq={hq?}&hl={hl?}&siteSearch={siteSearch?}&siteSearchFilter={siteSearchFilter?}&exactTerms={exactTerms?}&excludeTerms={excludeTerms?}&linkSite={linkSite?}&orTerms={orTerms?}&relatedSite={relatedSite?}&dateRestrict={dateRestrict?}&lowRange={lowRange?}&highRange={highRange?}&searchType={searchType}&fileType={fileType?}&rights={rights?}&imgSize={imgSize?}&imgType={imgType?}&imgColorType={imgColorType?}&imgDominantColor={imgDominantColor?}&alt=json'}, 'queries': {'request': [{'title': \"Google Custom Search - Shay, Pourvu qu'il pleuve\", 'searchTerms': \"Shay, Pourvu qu'il pleuve\", 'count': 10, 'startIndex': 1, 'inputEncoding': 'utf8', 'outputEncoding': 'utf8', 'safe': 'off', 'cx': '91587380115664474'}]}, 'searchInformation': {'searchTime': 0.171981, 'formattedSearchTime': '0.17', 'totalResults': '0', 'formattedTotalResults': '0'}}\n"
     ]
    },
    {
     "ename": "KeyError",
     "evalue": "'items'",
     "output_type": "error",
     "traceback": [
      "\u001b[0;31m---------------------------------------------------------------------------\u001b[0m",
      "\u001b[0;31mKeyError\u001b[0m                                  Traceback (most recent call last)",
      "\u001b[1;32m/home/mrcyme/Documents/development/playswap-agents/dev.ipynb Cell 5\u001b[0m line \u001b[0;36m1\n\u001b[0;32m----> <a href='vscode-notebook-cell:/home/mrcyme/Documents/development/playswap-agents/dev.ipynb#W4sZmlsZQ%3D%3D?line=0'>1</a>\u001b[0m google_search_playlists(\u001b[39m\"\u001b[39m\u001b[39mShay, Pourvu qu\u001b[39m\u001b[39m'\u001b[39m\u001b[39mil pleuve\u001b[39m\u001b[39m\"\u001b[39m)\n",
      "\u001b[1;32m/home/mrcyme/Documents/development/playswap-agents/dev.ipynb Cell 5\u001b[0m line \u001b[0;36m6\n\u001b[1;32m      <a href='vscode-notebook-cell:/home/mrcyme/Documents/development/playswap-agents/dev.ipynb#W4sZmlsZQ%3D%3D?line=3'>4</a>\u001b[0m resp \u001b[39m=\u001b[39m requests\u001b[39m.\u001b[39mget(url)\u001b[39m.\u001b[39mjson()\n\u001b[1;32m      <a href='vscode-notebook-cell:/home/mrcyme/Documents/development/playswap-agents/dev.ipynb#W4sZmlsZQ%3D%3D?line=4'>5</a>\u001b[0m \u001b[39mprint\u001b[39m(resp)\n\u001b[0;32m----> <a href='vscode-notebook-cell:/home/mrcyme/Documents/development/playswap-agents/dev.ipynb#W4sZmlsZQ%3D%3D?line=5'>6</a>\u001b[0m \u001b[39mreturn\u001b[39;00m [s[\u001b[39m\"\u001b[39m\u001b[39mlink\u001b[39m\u001b[39m\"\u001b[39m] \u001b[39mfor\u001b[39;00m s \u001b[39min\u001b[39;00m resp[\u001b[39m\"\u001b[39m\u001b[39mitems\u001b[39m\u001b[39m\"\u001b[39m][\u001b[39m0\u001b[39m:n]]\n",
      "\u001b[0;31mKeyError\u001b[0m: 'items'"
     ]
    }
   ],
   "source": [
    "google_search_playlists(\"Shay, Pourvu qu'il pleuve\")"
   ]
  },
  {
   "cell_type": "code",
   "execution_count": 5,
   "metadata": {},
   "outputs": [
    {
     "data": {
      "text/plain": [
       "'https://i1.sndcdn.com/artworks-GJ73UENoSrz2oSQc-A6ijyA-t500x500.jpg'"
      ]
     },
     "execution_count": 5,
     "metadata": {},
     "output_type": "execute_result"
    }
   ],
   "source": [
    "google_search_image(\"freeze corleone l'attaque des clone\")"
   ]
  },
  {
   "cell_type": "code",
   "execution_count": 17,
   "metadata": {},
   "outputs": [],
   "source": [
    "TOOLS = [\n",
    "    {\n",
    "        \"type\": \"function\",\n",
    "        \"function\": {\n",
    "            \"name\": \"get_album_list_from_text\",\n",
    "            \"description\": \"Get a list of album releases from a text coming from a webpage\",\n",
    "            \"parameters\": {\n",
    "                \"type\": \"object\",\n",
    "                \"properties\": {\n",
    "                    \"albums\": {\n",
    "                        \"type\": \"array\",\n",
    "                        \"description\": \"The name of the released albums\",\n",
    "                        \"items\": {\n",
    "                            \"type\": \"object\",\n",
    "                            \"properties\": {\n",
    "                                \"title\": {\n",
    "                                    \"type\": \"string\",\n",
    "                                    \"description\": \"The title of the album\",\n",
    "                                },\n",
    "                                \"artist\": {\n",
    "                                    \"type\": \"string\",\n",
    "                                    \"description\": \"The artist of the album\",\n",
    "                                },\n",
    "                                \"date\": {\n",
    "                                    \"type\": \"string\",\n",
    "                                    \"description\": \"The release date of the album. The date format should be 'day month year' without a comma, for example, '21 May 2023'. Add the current year if no year is supplied\",\n",
    "                                },\n",
    "                            }\n",
    "                        }\n",
    "                    }\n",
    "                },\n",
    "                \"required\": [\"albums\"],\n",
    "            },\n",
    "        },\n",
    "    }\n",
    "]\n",
    "\n",
    "\n",
    "client = OpenAI()\n",
    "def get_album_list_from_url(url, model=\"gpt-3.5-turbo-1106\", scraper=\"bs4\"):\n",
    "    \"\"\"\n",
    "    \"\"\"\n",
    "    if scraper==\"bs4\":\n",
    "        text = scrap_text_bs4(url)\n",
    "    elif scraper==\"selenium\":\n",
    "        text = scrap_text_selenium(url)\n",
    "    message = f\"\"\"\n",
    "    Can you get a list of all the unreleased album from the following text, for each album give the the title, the artist and the relase date, sort album by descending date. Unreleased means that the release date is after {datetime.datetime.now().year}, please respond in json format. {text}\n",
    "    \"\"\"\n",
    "    messages = [{\"role\": \"user\", \"content\": f\"{message}\"}]\n",
    "    response = client.chat.completions.create(\n",
    "        model=model,\n",
    "        messages=messages,\n",
    "        response_format={ \"type\": \"json_object\" },\n",
    "        tools=TOOLS,\n",
    "        tool_choice=\"auto\",  # auto is default, but we'll be explicit\n",
    "    )\n",
    "    return json.loads(response.choices[0].message.tool_calls[0].function.arguments)[\"albums\"]\n",
    "\n",
    "def string_to_timestamp(string, format):\n",
    "    return datetime.datetime.strptime(string, format)\n",
    "\n",
    "def create_playlist_title_from_album(album, model=\"gpt-3.5-turbo-1106\"):\n",
    "    message = f\"\"\"creé un titre court pour une playlist spotify qui porte sur l'album : {album[\"title\"]}, et l'artiste {album[\"artist\"]}\"\"\"\n",
    "    messages = [{\"role\": \"user\", \"content\": f\"{message}\"}]\n",
    "    response = client.chat.completions.create(\n",
    "        model=model,\n",
    "        messages=messages,\n",
    "    )\n",
    "    return response.choices[0].message.content\n",
    "\n",
    "def create_playlist_description_from_album(album, model=\"gpt-3.5-turbo-1106\"):\n",
    "    message  = f\"\"\"Crée un description courte d'une phrase maximum pour un playlist spotify qui porte sur l'album : {album[\"title\"]}, et l'artiste {album[\"artist\"]}\"\"\"\n",
    "    messages = [{\"role\": \"user\", \"content\": f\"{message}\"}]\n",
    "    response = client.chat.completions.create(\n",
    "        model=model,\n",
    "        messages=messages,\n",
    "    )\n",
    "    return response.choices[0].message.content\n",
    "\n",
    "def create_upcoming_release_playlist_candidates_from_url(url, model=\"gpt-3.5-turbo-1106\", scraper=\"bs4\"):\n",
    "    playlist_candidates= []\n",
    "    album_list = get_album_list_from_url(url, model=model, scraper=scraper)\n",
    "    print(album_list)\n",
    "    unreleased_album_list = parse_album_list(album_list)\n",
    "    for a in unreleased_album_list:\n",
    "        title = create_playlist_title_from_album(a)\n",
    "        description= create_playlist_description_from_album(a)\n",
    "        print(f\"{a['artist']}, {a['title']} playlist\".encode('utf-8').decode('unicode_escape'))\n",
    "        influences = google_search_playlists(f\"{a['artist']}, {a['title']} playlist\".encode('utf-8').decode('unicode_escape'))\n",
    "        image = google_search_image(f\"{a['artist']}, {a['title']}\")\n",
    "        playlist_candidates.append({\"title\": title, \"description\": description, \"influences\":\",\".join(influences), \"additional infos\":f\"Playlist created for release {a['title']} by {a['artist']}\", \"image\": image})\n",
    "    return playlist_candidates\n",
    "    \n",
    "    \n",
    "def parse_album_list(album_list):\n",
    "    album_list_with_parsed_date = []\n",
    "    for a in album_list:\n",
    "        date = dateparser.parse(a[\"date\"])\n",
    "        a[\"date\"] = date\n",
    "        # keep only parsable date\n",
    "        if date:\n",
    "            album_list_with_parsed_date.append(a)\n",
    "    unreleased_album_list = [a for a in album_list_with_parsed_date if a[\"date\"]>datetime.datetime.today()]\n",
    "    return unreleased_album_list\n"
   ]
  },
  {
   "cell_type": "code",
   "execution_count": 18,
   "metadata": {},
   "outputs": [
    {
     "name": "stdout",
     "output_type": "stream",
     "text": [
      "[{'title': 'Ma vie', 'artist': \"l'Allemand \", 'date': '8 décembre 2023'}, {'title': 'LA ROUTE EST LONGUE', 'artist': 'JuL', 'date': '8 décembre 2023'}, {'title': 'La symphonie des chargeurs, vol. 2', 'artist': 'Fababy', 'date': '24 novembre 2023'}, {'title': 'Le fils de la gardienne', 'artist': 'Rémy', 'date': '24 novembre 2023'}, {'title': 'Bitume', 'artist': 'Rocé', 'date': '17 novembre 2023'}, {'title': 'Banlieusards 2', 'artist': 'Kery James', 'date': '17 novembre 2023'}, {'title': 'Années Sauvages Part. 2', 'artist': 'Georgio', 'date': '10 novembre 2023'}, {'title': 'HLM3', 'artist': 'Mister You', 'date': '10 novembre 2023'}, {'title': 'Eau de source', 'artist': 'Souffrance', 'date': '10 novembre 2023'}, {'title': 'Sale dance - Single', 'artist': 'DTF', 'date': '9 novembre 2023'}, {'title': 'SALE ÉPOQUE - EP', 'artist': 'Lacrim', 'date': '8 novembre 2023'}, {'title': 'PKS 1 (Ça pue sa mère) - Single', 'artist': 'Fresh Lapeufra', 'date': '3 novembre 2023'}, {'title': 'Akatsuki - Single', 'artist': 'Maes', 'date': '3 novembre 2023'}, {'title': 'Ambition', 'artist': 'Guy2Bezbar', 'date': '17 novembre 2023'}, {'title': 'Memory', 'artist': 'Rsko', 'date': '3 novembre 2023'}, {'title': 'Akrapo 7 - Single', 'artist': 'UZI', 'date': '27 octobre 2023'}, {'title': 'Au Suivant - Single', 'artist': 'Lynda', 'date': '27 octobre 2023'}, {'title': 'FORT - Single', 'artist': 'Kanoé', 'date': '27 octobre 2023'}, {'title': 'Où les garçons grandissent', 'artist': 'Jewel Usain', 'date': '27 octobre 2023'}, {'title': \"LDLG (L'art de la guerre)\", 'artist': 'Isk', 'date': '27 octobre 2023'}, {'title': 'Tant de choses - Single', 'artist': 'DTF', 'date': '26 octobre 2023'}, {'title': 'La vérité - Single', 'artist': 'Rémy', 'date': '20 octobre 2023'}, {'title': 'Kassessa', 'artist': 'Ichon', 'date': '20 octobre 2023'}, {'title': 'TRAP$TAR 3', 'artist': 'Leto', 'date': '20 octobre 2023'}, {'title': 'Liberta - Single', 'artist': 'DTF', 'date': '12 octobre 2023'}, {'title': 'Encore plus - Single', 'artist': 'Landy', 'date': '13 octobre 2023'}, {'title': 'Reste Trankil (feat. JUL) - Single', 'artist': 'Mister You', 'date': '13 octobre 2023'}, {'title': 'Chroniques de Mars, Vol. 3', 'artist': 'V.A', 'date': '13 octobre 2023'}, {'title': 'VENI - EP', 'artist': 'GLK', 'date': '13 octobre 2023'}, {'title': 'La légende Black', 'artist': 'Black M', 'date': '13 octobre 2023'}, {'title': 'IL LE FALLAIT', 'artist': 'Favé', 'date': '13 octobre 2023'}, {'title': 'De La Fontaine', 'artist': 'Beendo Z', 'date': '13 octobre 2023'}, {'title': 'Seya - Single', 'artist': 'Morad', 'date': '6 octobre 2023'}, {'title': '3PRL - Single', 'artist': 'Larry', 'date': '6 octobre 2023'}, {'title': 'Les Alizés - Single', 'artist': 'Georgio', 'date': '6 octobre 2023'}, {'title': 'Splash, Pt. 5 - Single', 'artist': 'ASHE 22', 'date': '4 octobre 2023'}, {'title': 'Bokassa - Single', 'artist': 'JSX', 'date': '29 septembre 2023'}, {'title': 'La guitare suit la mélo - Single', 'artist': 'Dadju', 'date': '29 septembre 2023'}]\n",
      "l'Allemand , Ma vie playlist\n",
      "{'kind': 'customsearch#search', 'url': {'type': 'application/json', 'template': 'https://www.googleapis.com/customsearch/v1?q={searchTerms}&num={count?}&start={startIndex?}&lr={language?}&safe={safe?}&cx={cx?}&sort={sort?}&filter={filter?}&gl={gl?}&cr={cr?}&googlehost={googleHost?}&c2coff={disableCnTwTranslation?}&hq={hq?}&hl={hl?}&siteSearch={siteSearch?}&siteSearchFilter={siteSearchFilter?}&exactTerms={exactTerms?}&excludeTerms={excludeTerms?}&linkSite={linkSite?}&orTerms={orTerms?}&relatedSite={relatedSite?}&dateRestrict={dateRestrict?}&lowRange={lowRange?}&highRange={highRange?}&searchType={searchType}&fileType={fileType?}&rights={rights?}&imgSize={imgSize?}&imgType={imgType?}&imgColorType={imgColorType?}&imgDominantColor={imgDominantColor?}&alt=json'}, 'queries': {'request': [{'title': \"Google Custom Search - l'Allemand , Ma vie playlist\", 'totalResults': '286', 'searchTerms': \"l'Allemand , Ma vie playlist\", 'count': 10, 'startIndex': 1, 'inputEncoding': 'utf8', 'outputEncoding': 'utf8', 'safe': 'off', 'cx': '91587380115664474'}], 'nextPage': [{'title': \"Google Custom Search - l'Allemand , Ma vie playlist\", 'totalResults': '286', 'searchTerms': \"l'Allemand , Ma vie playlist\", 'count': 10, 'startIndex': 11, 'inputEncoding': 'utf8', 'outputEncoding': 'utf8', 'safe': 'off', 'cx': '91587380115664474'}]}, 'context': {'title': 'Spotify playlists'}, 'searchInformation': {'searchTime': 0.252967, 'formattedSearchTime': '0.25', 'totalResults': '286', 'formattedTotalResults': '286'}, 'items': [{'kind': 'customsearch#result', 'title': 'Jul Radio - playlist by Spotify | Spotify', 'htmlTitle': 'Jul Radio - <b>playlist</b> by Spotify | Spotify', 'link': 'https://open.spotify.com/playlist/37i9dQZF1E4x86f6XEsCHK', 'displayLink': 'open.spotify.com', 'snippet': \"L'Allemand. A croire que. Jul. Bingo. AM La Scampia, Hatik. Pour un violet. Jul. Forza. Djadja & Dinaz. Ma vie. Mister You. Je n'suis pas un héros. Jul. Elle\\xa0...\", 'htmlSnippet': '<b>L&#39;Allemand</b>. A croire que. Jul. Bingo. AM La Scampia, Hatik. Pour un violet. Jul. Forza. Djadja &amp; Dinaz. <b>Ma vie</b>. Mister You. Je n&#39;suis pas un héros. Jul. Elle&nbsp;...', 'cacheId': 'naEU2DYZXhYJ', 'formattedUrl': 'https://open.spotify.com/playlist/37i9dQZF1E4x86f6XEsCHK', 'htmlFormattedUrl': 'https://open.spotify.com/<b>playlist</b>/37i9dQZF1E4x86f6XEsCHK', 'pagemap': {'cse_thumbnail': [{'src': 'https://encrypted-tbn1.gstatic.com/images?q=tbn:ANd9GcTCfKjeczF9BMqqQnBqtPYvmZMcE6gHNcQsou7f2VHdOQedYB29B1QK6-13', 'width': '225', 'height': '225'}], 'metatags': [{'fb:app_id': '174829003346', 'og:type': 'music.playlist', 'og:site_name': 'Spotify', 'viewport': 'width=device-width, initial-scale=1, maximum-scale=1', 'og:title': 'Jul Radio', 'google': 'notranslate', 'og:url': 'https://open.spotify.com/playlist/37i9dQZF1E4x86f6XEsCHK', 'og:description': 'Jul Radio · Playlist · 50 songs · 4 likes', 'og:restrictions:country:allowed': 'AR'}], 'cse_image': [{'src': 'https://seeded-session-images.scdn.co/v1/img/artist/0G646F3SeWp9RMuKoylNFi/en'}]}}, {'kind': 'customsearch#result', 'title': 'This Is Sasso - playlist by Spotify | Spotify', 'htmlTitle': 'This Is Sasso - <b>playlist</b> by Spotify | Spotify', 'link': 'https://open.spotify.com/playlist/37i9dQZF1DZ06evO1MOcDf', 'displayLink': 'open.spotify.com', 'snippet': \"L'Allemand). Sasso, L'Allemand. Chapeau de paille. Sasso, Scridge. Pardonne-moi. Sasso. C'est ma vie (feat. Jul). Sasso, Jul. La neige. Sasso. Monna Lisa - La\\xa0...\", 'htmlSnippet': '<b>L&#39;Allemand</b>). Sasso, <b>L&#39;Allemand</b>. Chapeau de paille. Sasso, Scridge. Pardonne-moi. Sasso. C&#39;est <b>ma vie</b> (feat. Jul). Sasso, Jul. La neige. Sasso. Monna Lisa - La&nbsp;...', 'cacheId': 'AbkBLVjq3roJ', 'formattedUrl': 'https://open.spotify.com/playlist/37i9dQZF1DZ06evO1MOcDf', 'htmlFormattedUrl': 'https://open.spotify.com/<b>playlist</b>/37i9dQZF1DZ06evO1MOcDf', 'pagemap': {'cse_thumbnail': [{'src': 'https://encrypted-tbn0.gstatic.com/images?q=tbn:ANd9GcTEEV7fPbpjuoBBxLS3KasXWibYAWBxfWKjIjGTQZfOqVM-HmmRACKbLhjP', 'width': '225', 'height': '225'}], 'metatags': [{'fb:app_id': '174829003346', 'og:type': 'music.playlist', 'og:site_name': 'Spotify', 'viewport': 'width=device-width, initial-scale=1, maximum-scale=1', 'og:title': 'This Is Sasso', 'google': 'notranslate', 'og:url': 'https://open.spotify.com/playlist/37i9dQZF1DZ06evO1MOcDf', 'og:description': 'This Is Sasso · Playlist · 50 songs · 2.1K likes', 'og:restrictions:country:allowed': 'AR'}], 'cse_image': [{'src': 'https://thisis-images.spotifycdn.com/37i9dQZF1DZ06evO1MOcDf-default.jpg'}]}}, {'kind': 'customsearch#result', 'title': 'Sasso été ☀️ - playlist by SA2SSO | Spotify', 'htmlTitle': 'Sasso été ☀️   - <b>playlist</b> by SA2SSO | Spotify', 'link': 'https://open.spotify.com/playlist/0IGnZUKM14b9OCGu9UGjJA', 'displayLink': 'open.spotify.com', 'snippet': \"Je m'enfume (feat. L'Allemand) · Le son du ghetto · C'est ma vie (feat. Jul) · Hella · Kichta balaise · Allez allez · C'est le zoo · Minuit passé.\", 'htmlSnippet': 'Je m&#39;enfume (feat. <b>L&#39;Allemand</b>) &middot; Le son du ghetto &middot; C&#39;est <b>ma vie</b> (feat. Jul) &middot; Hella &middot; Kichta balaise &middot; Allez allez &middot; C&#39;est le zoo &middot; Minuit passé.', 'cacheId': 'nnLRencNTnwJ', 'formattedUrl': 'https://open.spotify.com/playlist/0IGnZUKM14b9OCGu9UGjJA', 'htmlFormattedUrl': 'https://open.spotify.com/<b>playlist</b>/0IGnZUKM14b9OCGu9UGjJA', 'pagemap': {'metatags': [{'fb:app_id': '174829003346', 'og:type': 'music.playlist', 'og:site_name': 'Spotify', 'viewport': 'width=device-width, initial-scale=1, maximum-scale=1', 'og:title': 'Sasso été ☀️🏖', 'google': 'notranslate', 'og:url': 'https://open.spotify.com/playlist/0IGnZUKM14b9OCGu9UGjJA', 'og:description': 'Sasso été ☀️🏖 · Playlist · 15 songs · 64 likes', 'og:restrictions:country:allowed': 'AR'}]}}, {'kind': 'customsearch#result', 'title': 'Sasso Mix - playlist by Spotify | Spotify', 'htmlTitle': 'Sasso Mix - <b>playlist</b> by Spotify | Spotify', 'link': 'https://open.spotify.com/playlist/37i9dQZF1EIVz4kdGxhZoa', 'displayLink': 'open.spotify.com', 'snippet': \"L'Allemand). Sasso, L'Allemand. HRTBRK #2. Kaza. C'est ma vie (feat. Jul). Sasso, Jul. Manolo. Niaks. Redémarrer. Sasso. Tu le sais. Kalash, Gazo\\xa0...\", 'htmlSnippet': '<b>L&#39;Allemand</b>). Sasso, <b>L&#39;Allemand</b>. HRTBRK #2. Kaza. C&#39;est <b>ma vie</b> (feat. Jul). Sasso, Jul. Manolo. Niaks. Redémarrer. Sasso. Tu le sais. Kalash, Gazo&nbsp;...', 'cacheId': 'dSacNKVX9GcJ', 'formattedUrl': 'https://open.spotify.com/playlist/37i9dQZF1EIVz4kdGxhZoa', 'htmlFormattedUrl': 'https://open.spotify.com/<b>playlist</b>/37i9dQZF1EIVz4kdGxhZoa', 'pagemap': {'metatags': [{'fb:app_id': '174829003346', 'og:type': 'music.playlist', 'og:site_name': 'Spotify', 'viewport': 'width=device-width, initial-scale=1, maximum-scale=1', 'og:title': 'Sasso Mix', 'google': 'notranslate', 'og:url': 'https://open.spotify.com/playlist/37i9dQZF1EIVz4kdGxhZoa', 'og:description': 'Sasso Mix · Playlist · 50 songs', 'og:restrictions:country:allowed': 'AR'}]}}, {'kind': 'customsearch#result', 'title': 'Aymeric Sax Radio - playlist by Spotify | Spotify', 'htmlTitle': 'Aymeric Sax Radio - <b>playlist</b> by Spotify | Spotify', 'link': 'https://open.spotify.com/playlist/37i9dQZF1E4vAfXJMrn87x', 'displayLink': 'open.spotify.com', 'snippet': \"Vice. HDX. 69 LA FUNK. Richi. Vas-y DJ. Kaza. Contagieux. Le Motif. C'est pas ma faute. Jack Uzi. Hors série C - Bizarre. L'Allemand. La Mañana. Nyma. La Force\\xa0...\", 'htmlSnippet': 'Vice. HDX. 69 <b>LA</b> FUNK. Richi. Vas-y DJ. Kaza. Contagieux. Le Motif. C&#39;est pas <b>ma</b> faute. Jack Uzi. Hors série C - Bizarre. <b>L&#39;Allemand</b>. <b>La</b> Mañana. Nyma. <b>La</b> Force&nbsp;...', 'cacheId': 'nOc3a5RI6e4J', 'formattedUrl': 'https://open.spotify.com/playlist/37i9dQZF1E4vAfXJMrn87x', 'htmlFormattedUrl': 'https://open.spotify.com/<b>playlist</b>/37i9dQZF1E4vAfXJMrn87x', 'pagemap': {'metatags': [{'fb:app_id': '174829003346', 'og:type': 'music.playlist', 'og:site_name': 'Spotify', 'viewport': 'width=device-width, initial-scale=1, maximum-scale=1', 'og:title': 'Aymeric Sax Radio', 'google': 'notranslate', 'og:url': 'https://open.spotify.com/playlist/37i9dQZF1E4vAfXJMrn87x', 'og:description': 'Aymeric Sax Radio · Playlist · 50 songs', 'og:restrictions:country:allowed': 'AR'}]}}, {'kind': 'customsearch#result', 'title': 'Tota SDZ Radio - playlist by Spotify | Spotify', 'htmlTitle': 'Tota SDZ Radio - <b>playlist</b> by Spotify | Spotify', 'link': 'https://open.spotify.com/playlist/37i9dQZF1E4yg1ecgFfvqP', 'displayLink': 'open.spotify.com', 'snippet': \"La vie de ma mère. Mamso. Badabou - Edit Mix. T-Rapi. Soirée menté. Krilino ... L'Allemand. J'vois Flou. Bon'z. Nord fvce. Zkr, Anas, Krilino.\", 'htmlSnippet': '<b>La vie</b> de ma mère. Mamso. Badabou - Edit Mix. T-Rapi. Soirée menté. Krilino ... <b>L&#39;Allemand</b>. J&#39;vois Flou. Bon&#39;z. Nord fvce. Zkr, Anas, Krilino.', 'cacheId': 'i6A_XBVy0zIJ', 'formattedUrl': 'https://open.spotify.com/playlist/37i9dQZF1E4yg1ecgFfvqP', 'htmlFormattedUrl': 'https://open.spotify.com/<b>playlist</b>/37i9dQZF1E4yg1ecgFfvqP', 'pagemap': {'cse_thumbnail': [{'src': 'https://encrypted-tbn0.gstatic.com/images?q=tbn:ANd9GcQ5N_BL_ZZ_og0vc52BuUQA4zhRBaBzC0CFjK9Q8GtPxummM2PchOVjtei0', 'width': '225', 'height': '225'}], 'metatags': [{'fb:app_id': '174829003346', 'og:type': 'music.playlist', 'og:site_name': 'Spotify', 'viewport': 'width=device-width, initial-scale=1, maximum-scale=1', 'og:title': 'Tota SDZ Radio', 'google': 'notranslate', 'og:url': 'https://open.spotify.com/playlist/37i9dQZF1E4yg1ecgFfvqP', 'og:description': 'Tota SDZ Radio · Playlist · 50 songs', 'og:restrictions:country:allowed': 'AR'}], 'cse_image': [{'src': 'https://seeded-session-images.scdn.co/v1/img/artist/02KnunqCFYZABu8Yed3XBa/en'}]}}, {'kind': 'customsearch#result', 'title': 'DA Uzi Radio - playlist by Spotify | Spotify', 'htmlTitle': 'DA Uzi Radio - <b>playlist</b> by Spotify | Spotify', 'link': 'https://open.spotify.com/playlist/37i9dQZF1E4lL43BdkvkRP', 'displayLink': 'open.spotify.com', 'snippet': \"L'Allemand, DA Uzi. En apnée. Mister You, DA Uzi. Acharné 4. ISK ... Plus belle la vie. DA Uzi. Emotion. Fresh La Douille. Mauvais choix. Popey, DA Uzi.\", 'htmlSnippet': '<b>L&#39;Allemand</b>, DA Uzi. En apnée. Mister You, DA Uzi. Acharné 4. ISK ... Plus belle <b>la vie</b>. DA Uzi. Emotion. Fresh La Douille. Mauvais choix. Popey, DA Uzi.', 'cacheId': 'LppdbZpAxnwJ', 'formattedUrl': 'https://open.spotify.com/playlist/37i9dQZF1E4lL43BdkvkRP', 'htmlFormattedUrl': 'https://open.spotify.com/<b>playlist</b>/37i9dQZF1E4lL43BdkvkRP', 'pagemap': {'metatags': [{'fb:app_id': '174829003346', 'og:type': 'music.playlist', 'og:site_name': 'Spotify', 'viewport': 'width=device-width, initial-scale=1, maximum-scale=1', 'og:title': 'DA Uzi Radio', 'google': 'notranslate', 'og:url': 'https://open.spotify.com/playlist/37i9dQZF1E4lL43BdkvkRP', 'og:description': 'DA Uzi Radio · Playlist · 50 songs · 2.6K likes', 'og:restrictions:country:allowed': 'AD'}]}}, {'kind': 'customsearch#result', 'title': 'Par Coeur - playlist by Robin Cuoq | Spotify', 'htmlTitle': 'Par Coeur - <b>playlist</b> by Robin Cuoq | Spotify', 'link': 'https://open.spotify.com/playlist/2JD47l6fbgirbH8TGZgKOD', 'displayLink': 'open.spotify.com', 'snippet': \"Toto et Ninetta. Jul. Moulaga. Heuss L'enfoiré, Jul. 40%. Aya Nakamura. Ma vie. Dadju. Jaloux. Dadju. Legal · Privacy Center · Privacy Policy · Cookies · About\\xa0...\", 'htmlSnippet': 'Toto et Ninetta. Jul. Moulaga. Heuss L&#39;enfoiré, Jul. 40%. Aya Nakamura. <b>Ma vie</b>. Dadju. Jaloux. Dadju. Legal &middot; Privacy Center &middot; Privacy Policy &middot; Cookies &middot; About&nbsp;...', 'cacheId': 'H0Em8NOnc9oJ', 'formattedUrl': 'https://open.spotify.com/playlist/2JD47l6fbgirbH8TGZgKOD', 'htmlFormattedUrl': 'https://open.spotify.com/<b>playlist</b>/2JD47l6fbgirbH8TGZgKOD', 'pagemap': {'cse_thumbnail': [{'src': 'https://encrypted-tbn1.gstatic.com/images?q=tbn:ANd9GcR15W0NyIcKCw_AOX50QnE2gijZCWNDkansR-4OwKVvb9yO2Ss9WrEGcI3p', 'width': '225', 'height': '225'}], 'metatags': [{'fb:app_id': '174829003346', 'og:type': 'music.playlist', 'og:site_name': 'Spotify', 'viewport': 'width=device-width, initial-scale=1, maximum-scale=1', 'og:title': 'Par Coeur', 'google': 'notranslate', 'og:url': 'https://open.spotify.com/playlist/2JD47l6fbgirbH8TGZgKOD', 'og:description': 'Par Coeur · Playlist · 230 songs · 148 likes', 'og:restrictions:country:allowed': 'AR'}], 'cse_image': [{'src': 'https://mosaic.scdn.co/300/ab67616d00001e029441c3e67708fb09b068702eab67616d00001e029471be202a77231d7bb009bcab67616d00001e02a030657ace6d420ba6d1c8f3ab67616d00001e02f5618df374c5b80aaa6c909a'}]}}, {'kind': 'customsearch#result', 'title': 'This Is Hornet La Frappe - playlist by Spotify | Spotify', 'htmlTitle': 'This Is Hornet <b>La</b> Frappe - <b>playlist</b> by Spotify | Spotify', 'link': 'https://open.spotify.com/playlist/37i9dQZF1DZ06evO0Jb0TS', 'displayLink': 'open.spotify.com', 'snippet': \"La vie du binks (feat. Hornet La Frappe, Leto, Sadek, Soprano). DA Uzi, Ninho ... L'Allemand, Hornet La Frappe. Calumet. Hornet La Frappe. Maison d'arrêt (feat\\xa0...\", 'htmlSnippet': '<b>La vie</b> du binks (feat. Hornet La Frappe, Leto, Sadek, Soprano). DA Uzi, Ninho ... <b>L&#39;Allemand</b>, Hornet La Frappe. Calumet. Hornet La Frappe. Maison d&#39;arrêt (feat&nbsp;...', 'cacheId': 'pmYc_-hbStoJ', 'formattedUrl': 'https://open.spotify.com/playlist/37i9dQZF1DZ06evO0Jb0TS', 'htmlFormattedUrl': 'https://open.spotify.com/<b>playlist</b>/37i9dQZF1DZ06evO0Jb0TS', 'pagemap': {'cse_thumbnail': [{'src': 'https://encrypted-tbn2.gstatic.com/images?q=tbn:ANd9GcTvPZXed38dTsjUEdoTePVZF4Ll8cxWFm9wFsC1ceI2lHfAF8u1ElYR-kpl', 'width': '225', 'height': '225'}], 'metatags': [{'fb:app_id': '174829003346', 'og:type': 'music.playlist', 'og:site_name': 'Spotify', 'viewport': 'width=device-width, initial-scale=1, maximum-scale=1', 'og:title': 'This Is Hornet La Frappe', 'google': 'notranslate', 'og:url': 'https://open.spotify.com/playlist/37i9dQZF1DZ06evO0Jb0TS', 'og:description': 'This Is Hornet La Frappe · Playlist · 50 songs · 13K likes', 'og:restrictions:country:allowed': 'AR'}], 'cse_image': [{'src': 'https://thisis-images.spotifycdn.com/37i9dQZF1DZ06evO0Jb0TS-default.jpg'}]}}, {'kind': 'customsearch#result', 'title': 'Dehwi Radio - playlist by Spotify | Spotify', 'htmlTitle': 'Dehwi Radio - <b>playlist</b> by Spotify | Spotify', 'link': 'https://open.spotify.com/playlist/37i9dQZF1E4zU0pZXMZ3sI', 'displayLink': 'open.spotify.com', 'snippet': \"L3G3ND3 OFFICIEL. NIZZY 3ICHA. Nizzy Bee. Espoir. Dehwi. Entre 4 murs. Bekar. Freestyle Insalubre 9. TRZ. J'raconte ma vie. Mig. Devenir l'éclair. Antoine.\", 'htmlSnippet': 'L3G3ND3 OFFICIEL. NIZZY 3ICHA. Nizzy Bee. Espoir. Dehwi. Entre 4 murs. Bekar. Freestyle Insalubre 9. TRZ. J&#39;raconte <b>ma vie</b>. Mig. Devenir l&#39;éclair. Antoine.', 'cacheId': 'PcmXrtnHvJsJ', 'formattedUrl': 'https://open.spotify.com/playlist/37i9dQZF1E4zU0pZXMZ3sI', 'htmlFormattedUrl': 'https://open.spotify.com/<b>playlist</b>/37i9dQZF1E4zU0pZXMZ3sI', 'pagemap': {'cse_thumbnail': [{'src': 'https://encrypted-tbn3.gstatic.com/images?q=tbn:ANd9GcSRj_9hdvRzvU5NR-q6u9x2yluKWHibqI3XcBrzADLHwGNjGy0oKfDrXUE', 'width': '225', 'height': '225'}], 'metatags': [{'fb:app_id': '174829003346', 'og:type': 'music.playlist', 'og:site_name': 'Spotify', 'viewport': 'width=device-width, initial-scale=1, maximum-scale=1', 'og:title': 'Dehwi Radio', 'google': 'notranslate', 'og:url': 'https://open.spotify.com/playlist/37i9dQZF1E4zU0pZXMZ3sI', 'og:description': 'Dehwi Radio · Playlist · 50 songs', 'og:restrictions:country:allowed': 'AR'}], 'cse_image': [{'src': 'https://seeded-session-images.scdn.co/v1/img/artist/5QBUGMrl0immqQEPuNABec/en'}]}}]}\n",
      "JuL, LA ROUTE EST LONGUE playlist\n",
      "{'kind': 'customsearch#search', 'url': {'type': 'application/json', 'template': 'https://www.googleapis.com/customsearch/v1?q={searchTerms}&num={count?}&start={startIndex?}&lr={language?}&safe={safe?}&cx={cx?}&sort={sort?}&filter={filter?}&gl={gl?}&cr={cr?}&googlehost={googleHost?}&c2coff={disableCnTwTranslation?}&hq={hq?}&hl={hl?}&siteSearch={siteSearch?}&siteSearchFilter={siteSearchFilter?}&exactTerms={exactTerms?}&excludeTerms={excludeTerms?}&linkSite={linkSite?}&orTerms={orTerms?}&relatedSite={relatedSite?}&dateRestrict={dateRestrict?}&lowRange={lowRange?}&highRange={highRange?}&searchType={searchType}&fileType={fileType?}&rights={rights?}&imgSize={imgSize?}&imgType={imgType?}&imgColorType={imgColorType?}&imgDominantColor={imgDominantColor?}&alt=json'}, 'queries': {'request': [{'title': 'Google Custom Search - JuL, LA ROUTE EST LONGUE playlist', 'totalResults': '368', 'searchTerms': 'JuL, LA ROUTE EST LONGUE playlist', 'count': 10, 'startIndex': 1, 'inputEncoding': 'utf8', 'outputEncoding': 'utf8', 'safe': 'off', 'cx': '91587380115664474'}], 'nextPage': [{'title': 'Google Custom Search - JuL, LA ROUTE EST LONGUE playlist', 'totalResults': '368', 'searchTerms': 'JuL, LA ROUTE EST LONGUE playlist', 'count': 10, 'startIndex': 11, 'inputEncoding': 'utf8', 'outputEncoding': 'utf8', 'safe': 'off', 'cx': '91587380115664474'}]}, 'context': {'title': 'Spotify playlists'}, 'searchInformation': {'searchTime': 0.311232, 'formattedSearchTime': '0.31', 'totalResults': '368', 'formattedTotalResults': '368'}, 'items': [{'kind': 'customsearch#result', 'title': 'Angelo Cherubin Radio - playlist by Spotify | Spotify', 'htmlTitle': 'Angelo Cherubin Radio - <b>playlist</b> by Spotify | Spotify', 'link': 'https://open.spotify.com/playlist/37i9dQZF1E4vxVm9xphCn1', 'displayLink': 'open.spotify.com', 'snippet': \"La route est longue (feat. Jul). Amy, Jul. 1er coeur. Kaaris, GIMS. Mama. Angelo Cherubin. Ce soir - Edit. T-Matt. Je m'en bats les couilles. Naza. Son Jean.\", 'htmlSnippet': 'La <b>route est longue</b> (feat. <b>Jul</b>). Amy, <b>Jul</b>. 1er coeur. Kaaris, GIMS. Mama. Angelo Cherubin. Ce soir - Edit. T-Matt. Je m&#39;en bats les couilles. Naza. Son Jean.', 'cacheId': 'x9LGtq6xAekJ', 'formattedUrl': 'https://open.spotify.com/playlist/37i9dQZF1E4vxVm9xphCn1', 'htmlFormattedUrl': 'https://open.spotify.com/<b>playlist</b>/37i9dQZF1E4vxVm9xphCn1', 'pagemap': {'metatags': [{'fb:app_id': '174829003346', 'og:type': 'music.playlist', 'og:site_name': 'Spotify', 'viewport': 'width=device-width, initial-scale=1, maximum-scale=1', 'og:title': 'Angelo Cherubin Radio', 'google': 'notranslate', 'og:url': 'https://open.spotify.com/playlist/37i9dQZF1E4vxVm9xphCn1', 'og:description': 'Angelo Cherubin Radio · Playlist · 50 songs', 'og:restrictions:country:allowed': 'AR'}]}}, {'kind': 'customsearch#result', 'title': \"Je vais t'oublier Radio - playlist by Spotify | Spotify\", 'htmlTitle': 'Je vais t&#39;oublier Radio - <b>playlist</b> by Spotify | Spotify', 'link': 'https://open.spotify.com/playlist/37i9dQZF1E8A0PqE2LzLqu', 'displayLink': 'open.spotify.com', 'snippet': \"Jul. Fallait Pas. Marwa Loud. Je ne comprends pas. Kalash Criminel, Jul. Ça les ... La route est longue (feat. Jul). Amy, Jul. Casse-toi d'ici. La Synesia. Legal.\", 'htmlSnippet': '<b>Jul</b>. Fallait Pas. Marwa Loud. Je ne comprends pas. Kalash Criminel, <b>Jul</b>. Ça les ... La <b>route est longue</b> (feat. <b>Jul</b>). Amy, <b>Jul</b>. Casse-toi d&#39;ici. La Synesia. Legal.', 'cacheId': 'vAAB6ft9LAgJ', 'formattedUrl': 'https://open.spotify.com/playlist/37i9dQZF1E8A0PqE2LzLqu', 'htmlFormattedUrl': 'https://open.spotify.com/<b>playlist</b>/37i9dQZF1E8A0PqE2LzLqu', 'pagemap': {'cse_thumbnail': [{'src': 'https://encrypted-tbn0.gstatic.com/images?q=tbn:ANd9GcRNwYRiXaxU60qkdxw-FI6yOV9FwVADg0V2V8KG-6WUwbEn8BuIQOYnXMk', 'width': '225', 'height': '225'}], 'metatags': [{'fb:app_id': '174829003346', 'og:type': 'music.playlist', 'og:site_name': 'Spotify', 'viewport': 'width=device-width, initial-scale=1, maximum-scale=1', 'og:title': \"Je vais t'oublier Radio\", 'google': 'notranslate', 'og:url': 'https://open.spotify.com/playlist/37i9dQZF1E8A0PqE2LzLqu', 'og:description': \"Je vais t'oublier Radio · Playlist · 50 songs · 34 likes\", 'og:restrictions:country:allowed': 'AR'}], 'cse_image': [{'src': 'https://seeded-session-images.scdn.co/v1/img/track/16pMGll7Ngwq32CrLEMyxa/en'}]}}, {'kind': 'customsearch#result', 'title': 'MC Flitsbue Radio - playlist by Spotify | Spotify', 'htmlTitle': 'MC Flitsbue Radio - <b>playlist</b> by Spotify | Spotify', 'link': 'https://open.spotify.com/playlist/37i9dQZF1E4Dha0Mh0f3a5', 'displayLink': 'open.spotify.com', 'snippet': 'La route est longue (feat. Jul). Amy, Jul. Costa del Sol. Yanns. Sæt dig på mit ansigt. Mr. Mum. Changement. Waksman. Pompompom. Maz Yole. Señorita. Mathieu\\xa0...', 'htmlSnippet': 'La <b>route est longue</b> (feat. <b>Jul</b>). Amy, <b>Jul</b>. Costa del Sol. Yanns. Sæt dig på mit ansigt. Mr. Mum. Changement. Waksman. Pompompom. Maz Yole. Señorita. Mathieu&nbsp;...', 'cacheId': 'yMNQQlzhIxgJ', 'formattedUrl': 'https://open.spotify.com/playlist/37i9dQZF1E4Dha0Mh0f3a5', 'htmlFormattedUrl': 'https://open.spotify.com/<b>playlist</b>/37i9dQZF1E4Dha0Mh0f3a5', 'pagemap': {'metatags': [{'fb:app_id': '174829003346', 'og:type': 'music.playlist', 'og:site_name': 'Spotify', 'viewport': 'width=device-width, initial-scale=1, maximum-scale=1', 'og:title': 'MC Flitsbue Radio', 'google': 'notranslate', 'og:url': 'https://open.spotify.com/playlist/37i9dQZF1E4Dha0Mh0f3a5', 'og:description': 'MC Flitsbue Radio · Playlist · 50 songs', 'og:restrictions:country:allowed': 'AR'}]}}, {'kind': 'customsearch#result', 'title': 'OneNessa Radio - playlist by Spotify | Spotify', 'htmlTitle': 'OneNessa Radio - <b>playlist</b> by Spotify | Spotify', 'link': 'https://open.spotify.com/playlist/37i9dQZF1E4t0CFYrrVSOe', 'displayLink': 'open.spotify.com', 'snippet': 'Quand la route est longue. Sarahmée, FouKi. Free Yourself. OneNessa. Tout à nous. Naomi. Oh lala. Parazar. Le temps au temps. Maëva. Un petit peu. QCLTUR, Benny\\xa0...', 'htmlSnippet': 'Quand la <b>route est longue</b>. Sarahmée, FouKi. Free Yourself. OneNessa. Tout à nous. Naomi. Oh lala. Parazar. Le temps au temps. Maëva. Un petit peu. QCLTUR, Benny&nbsp;...', 'cacheId': 'NVVgqrGjib4J', 'formattedUrl': 'https://open.spotify.com/playlist/37i9dQZF1E4t0CFYrrVSOe', 'htmlFormattedUrl': 'https://open.spotify.com/<b>playlist</b>/37i9dQZF1E4t0CFYrrVSOe', 'pagemap': {'cse_thumbnail': [{'src': 'https://encrypted-tbn1.gstatic.com/images?q=tbn:ANd9GcSefeYzM9ilzvB93feJTss6hcMy6stk48dsj2QT3d4r-B27y75c95DlZOuv', 'width': '225', 'height': '225'}], 'metatags': [{'fb:app_id': '174829003346', 'og:type': 'music.playlist', 'og:site_name': 'Spotify', 'viewport': 'width=device-width, initial-scale=1, maximum-scale=1', 'og:title': 'OneNessa Radio', 'google': 'notranslate', 'og:url': 'https://open.spotify.com/playlist/37i9dQZF1E4t0CFYrrVSOe', 'og:description': 'OneNessa Radio · Playlist · 50 songs · 1 likes', 'og:restrictions:country:allowed': 'AR'}], 'cse_image': [{'src': 'https://seeded-session-images.scdn.co/v1/img/artist/72oaCcX2X3nBhyhZGEjnFK/en'}]}}, {'kind': 'customsearch#result', 'title': 'Chad Ashe Radio - playlist by Spotify | Spotify', 'htmlTitle': 'Chad Ashe Radio - <b>playlist</b> by Spotify | Spotify', 'link': 'https://open.spotify.com/playlist/37i9dQZF1E4mHUOcJJ0eDs', 'displayLink': 'open.spotify.com', 'snippet': 'Quand la route est longue. Sarahmée, FouKi. Colorado. Chad Ashe, Jaja FKA Snagxy, Sylvie Desgroseilliers. Joli danger - Cheetah Remix. Aloïse Sauvage, Cheetah.', 'htmlSnippet': 'Quand la <b>route est longue</b>. Sarahmée, FouKi. Colorado. Chad Ashe, Jaja FKA Snagxy, Sylvie Desgroseilliers. Joli danger - Cheetah Remix. Aloïse Sauvage, Cheetah.', 'cacheId': '8RbzkYqbZhAJ', 'formattedUrl': 'https://open.spotify.com/playlist/37i9dQZF1E4mHUOcJJ0eDs', 'htmlFormattedUrl': 'https://open.spotify.com/<b>playlist</b>/37i9dQZF1E4mHUOcJJ0eDs', 'pagemap': {'cse_thumbnail': [{'src': 'https://encrypted-tbn3.gstatic.com/images?q=tbn:ANd9GcQjAAYBLh1bYJ-Zi5xwAhu7gQu4MaA4B51W_Te0RUFz8v_czvPplBQlU6Q', 'width': '225', 'height': '225'}], 'metatags': [{'fb:app_id': '174829003346', 'og:type': 'music.playlist', 'og:site_name': 'Spotify', 'viewport': 'width=device-width, initial-scale=1, maximum-scale=1', 'og:title': 'Chad Ashe Radio', 'google': 'notranslate', 'og:url': 'https://open.spotify.com/playlist/37i9dQZF1E4mHUOcJJ0eDs', 'og:description': 'Chad Ashe Radio · Playlist · 50 songs · 2 likes', 'og:restrictions:country:allowed': 'AR'}], 'cse_image': [{'src': 'https://seeded-session-images.scdn.co/v1/img/artist/1fJ07tUQeIPiDoh45GShMY/en'}]}}, {'kind': 'customsearch#result', 'title': 'Naomi Radio - playlist by Spotify | Spotify', 'htmlTitle': 'Naomi Radio - <b>playlist</b> by Spotify | Spotify', 'link': 'https://open.spotify.com/playlist/37i9dQZF1E4x971mMqI7Jm', 'displayLink': 'open.spotify.com', 'snippet': 'Quand la route est longue - Radio Edit. Sarahmée, FouKi. 5. Solo Night - Version française. Claudia Bouvette. 6. Every Baby. Naomi, Clodelle. 7. Ma Way. Miro,\\xa0...', 'htmlSnippet': 'Quand la <b>route est longue</b> - Radio Edit. Sarahmée, FouKi. 5. Solo Night - Version française. Claudia Bouvette. 6. Every Baby. Naomi, Clodelle. 7. Ma Way. Miro,&nbsp;...', 'cacheId': '7OF87T4r8iwJ', 'formattedUrl': 'https://open.spotify.com/playlist/37i9dQZF1E4x971mMqI7Jm', 'htmlFormattedUrl': 'https://open.spotify.com/<b>playlist</b>/37i9dQZF1E4x971mMqI7Jm', 'pagemap': {'cse_thumbnail': [{'src': 'https://encrypted-tbn1.gstatic.com/images?q=tbn:ANd9GcQujx5SYgzdcr5NceJUSVi2cRtANQKvwX9kH6StLFVox5NCFKXWM-hEUbQ', 'width': '225', 'height': '225'}], 'metatags': [{'og:image': 'https://seeded-session-images.scdn.co/v1/img/artist/7kCkigPAOvUemaGziItnCo/en', 'fb:app_id': '174829003346', 'og:type': 'music.playlist', 'og:site_name': 'Spotify', 'viewport': 'width=device-width, initial-scale=1, maximum-scale=1', 'og:title': 'Naomi Radio', 'google': 'notranslate', 'og:url': 'https://open.spotify.com/playlist/37i9dQZF1E4x971mMqI7Jm', 'og:description': 'Naomi Radio · Playlist · 50 songs · 14 likes', 'og:restrictions:country:allowed': 'AR'}], 'cse_image': [{'src': 'https://seeded-session-images.scdn.co/v1/img/artist/7kCkigPAOvUemaGziItnCo/en'}]}}, {'kind': 'customsearch#result', 'title': 'Julsy Radio - playlist by Spotify | Spotify', 'htmlTitle': 'Julsy Radio - <b>playlist</b> by Spotify | Spotify', 'link': 'https://open.spotify.com/playlist/37i9dQZF1E4DOsmtuJ67XH', 'displayLink': 'open.spotify.com', 'snippet': 'Comme la route est longue. Julsy. Sad Scene. Rocket Ship. Orange Skies. Near Futures. Clear Day. Jamai Spitters. Relative Motion. Between Two Trees. Ze Rest of\\xa0...', 'htmlSnippet': 'Comme la <b>route est longue</b>. Julsy. Sad Scene. Rocket Ship. Orange Skies. Near Futures. Clear Day. Jamai Spitters. Relative Motion. Between Two Trees. Ze Rest of&nbsp;...', 'cacheId': 'lBSWFw2VrYMJ', 'formattedUrl': 'https://open.spotify.com/playlist/37i9dQZF1E4DOsmtuJ67XH', 'htmlFormattedUrl': 'https://open.spotify.com/<b>playlist</b>/37i9dQZF1E4DOsmtuJ67XH', 'pagemap': {'cse_thumbnail': [{'src': 'https://encrypted-tbn3.gstatic.com/images?q=tbn:ANd9GcTyjKvZ7oQEhNWI6YY3Tb7N559k_ZQ-fwp-K_4ejTpDEde52GJaAKImyMU', 'width': '225', 'height': '225'}], 'metatags': [{'fb:app_id': '174829003346', 'og:type': 'music.playlist', 'og:site_name': 'Spotify', 'viewport': 'width=device-width, initial-scale=1, maximum-scale=1', 'og:title': 'Julsy Radio', 'google': 'notranslate', 'og:url': 'https://open.spotify.com/playlist/37i9dQZF1E4DOsmtuJ67XH', 'og:description': 'Julsy Radio · Playlist · 50 songs · 3 likes', 'og:restrictions:country:allowed': 'AR'}], 'cse_image': [{'src': 'https://seeded-session-images.scdn.co/v1/img/artist/0YjYSHzNfbQ9Xl7Iiql2uu/en'}]}}, {'kind': 'customsearch#result', 'title': 'Sifax Radio - playlist by Spotify | Spotify', 'htmlTitle': 'Sifax Radio - <b>playlist</b> by Spotify | Spotify', 'link': 'https://open.spotify.com/playlist/37i9dQZF1E4r72mg5yqaFj', 'displayLink': 'open.spotify.com', 'snippet': 'Sifax Radio · Playlist · 50 songs · 904 likes. ... La route est longue. Hös Copperfield. Legal · Privacy Center · Privacy Policy.', 'htmlSnippet': 'Sifax Radio · <b>Playlist</b> · 50 songs · 904 likes. ... La <b>route est longue</b>. Hös Copperfield. Legal &middot; Privacy Center &middot; Privacy Policy.', 'cacheId': 'OHF-MgH_52IJ', 'formattedUrl': 'https://open.spotify.com/playlist/37i9dQZF1E4r72mg5yqaFj', 'htmlFormattedUrl': 'https://open.spotify.com/<b>playlist</b>/37i9dQZF1E4r72mg5yqaFj', 'pagemap': {'cse_thumbnail': [{'src': 'https://encrypted-tbn2.gstatic.com/images?q=tbn:ANd9GcSWL4_UHweUAyr3DUnzB-C_Vf9h2l-z46Azq6C_5BqsByPhbEFauP_N6Xg', 'width': '225', 'height': '225'}], 'metatags': [{'fb:app_id': '174829003346', 'og:type': 'music.playlist', 'og:site_name': 'Spotify', 'viewport': 'width=device-width, initial-scale=1, maximum-scale=1', 'og:title': 'Sifax Radio', 'google': 'notranslate', 'og:url': 'https://open.spotify.com/playlist/37i9dQZF1E4r72mg5yqaFj', 'og:description': 'Sifax Radio · Playlist · 50 songs · 904 likes', 'og:restrictions:country:allowed': 'AR'}], 'cse_image': [{'src': 'https://seeded-session-images.scdn.co/v1/img/artist/5dacK0fiMwLoV93yBdUrZK/en'}]}}, {'kind': 'customsearch#result', 'title': 'NCK Radio - playlist by Spotify | Spotify', 'htmlTitle': 'NCK Radio - <b>playlist</b> by Spotify | Spotify', 'link': 'https://open.spotify.com/playlist/37i9dQZF1E4yHvkjU0UoU7', 'displayLink': 'open.spotify.com', 'snippet': \"Woah! M-Hunt. La Route Est Longue. Hystri, NCK. Wet (Get It). NHL Big Bandicoot. Nineteen Soldiers. Lordchris, Kmorgold. Shoot Around. O'keefe. La parade. Cool\\xa0...\", 'htmlSnippet': 'Woah! M-Hunt. La <b>Route Est Longue</b>. Hystri, NCK. Wet (Get It). NHL Big Bandicoot. Nineteen Soldiers. Lordchris, Kmorgold. Shoot Around. O&#39;keefe. La parade. Cool&nbsp;...', 'cacheId': 'uMYNO5ckBq4J', 'formattedUrl': 'https://open.spotify.com/playlist/37i9dQZF1E4yHvkjU0UoU7', 'htmlFormattedUrl': 'https://open.spotify.com/<b>playlist</b>/37i9dQZF1E4yHvkjU0UoU7', 'pagemap': {'metatags': [{'fb:app_id': '174829003346', 'og:type': 'music.playlist', 'og:site_name': 'Spotify', 'viewport': 'width=device-width, initial-scale=1, maximum-scale=1', 'og:title': 'NCK Radio', 'google': 'notranslate', 'og:url': 'https://open.spotify.com/playlist/37i9dQZF1E4yHvkjU0UoU7', 'og:description': 'NCK Radio · Playlist · 50 songs', 'og:restrictions:country:allowed': 'AR'}]}}, {'kind': 'customsearch#result', 'title': 'La Prune Radio - playlist by Spotify | Spotify', 'htmlTitle': 'La Prune Radio - <b>playlist</b> by Spotify | Spotify', 'link': 'https://open.spotify.com/playlist/37i9dQZF1E4uFojae53MWU', 'displayLink': 'open.spotify.com', 'snippet': \"La route est longue. La Prune. c'est clair. Mc Outsider. B.I.S pt2. Bisca. SYMPHONIE D'ADIEU. Ayto. bad party. Swaayve. Extinction. La Prune. fin du monde. L'\\xa0...\", 'htmlSnippet': 'La <b>route est longue</b>. La Prune. c&#39;est clair. Mc Outsider. B.I.S pt2. Bisca. SYMPHONIE D&#39;ADIEU. Ayto. bad party. Swaayve. Extinction. La Prune. fin du monde. L&#39;&nbsp;...', 'cacheId': 'GDi-mccNCV4J', 'formattedUrl': 'https://open.spotify.com/playlist/37i9dQZF1E4uFojae53MWU', 'htmlFormattedUrl': 'https://open.spotify.com/<b>playlist</b>/37i9dQZF1E4uFojae53MWU', 'pagemap': {'cse_thumbnail': [{'src': 'https://encrypted-tbn2.gstatic.com/images?q=tbn:ANd9GcTVXeLbW-UT88ZPCd4fHTYr_Yd_A6ttZksT4EPPRHF2PguK5eiiDk3jhtY', 'width': '225', 'height': '225'}], 'metatags': [{'fb:app_id': '174829003346', 'og:type': 'music.playlist', 'og:site_name': 'Spotify', 'viewport': 'width=device-width, initial-scale=1, maximum-scale=1', 'og:title': 'La Prune Radio', 'google': 'notranslate', 'og:url': 'https://open.spotify.com/playlist/37i9dQZF1E4uFojae53MWU', 'og:description': 'La Prune Radio · Playlist · 50 songs · 5 likes', 'og:restrictions:country:allowed': 'AR'}], 'cse_image': [{'src': 'https://seeded-session-images.scdn.co/v1/img/artist/7q3Ia4MVpVDFwFAcfQFpeq/en'}]}}]}\n",
      "Fababy, La symphonie des chargeurs, vol. 2 playlist\n",
      "{'kind': 'customsearch#search', 'url': {'type': 'application/json', 'template': 'https://www.googleapis.com/customsearch/v1?q={searchTerms}&num={count?}&start={startIndex?}&lr={language?}&safe={safe?}&cx={cx?}&sort={sort?}&filter={filter?}&gl={gl?}&cr={cr?}&googlehost={googleHost?}&c2coff={disableCnTwTranslation?}&hq={hq?}&hl={hl?}&siteSearch={siteSearch?}&siteSearchFilter={siteSearchFilter?}&exactTerms={exactTerms?}&excludeTerms={excludeTerms?}&linkSite={linkSite?}&orTerms={orTerms?}&relatedSite={relatedSite?}&dateRestrict={dateRestrict?}&lowRange={lowRange?}&highRange={highRange?}&searchType={searchType}&fileType={fileType?}&rights={rights?}&imgSize={imgSize?}&imgType={imgType?}&imgColorType={imgColorType?}&imgDominantColor={imgDominantColor?}&alt=json'}, 'queries': {'request': [{'title': 'Google Custom Search - Fababy, La symphonie des chargeurs, vol. 2 playlist', 'totalResults': '8', 'searchTerms': 'Fababy, La symphonie des chargeurs, vol. 2 playlist', 'count': 8, 'startIndex': 1, 'inputEncoding': 'utf8', 'outputEncoding': 'utf8', 'safe': 'off', 'cx': '91587380115664474'}]}, 'context': {'title': 'Spotify playlists'}, 'searchInformation': {'searchTime': 0.420476, 'formattedSearchTime': '0.42', 'totalResults': '8', 'formattedTotalResults': '8'}, 'items': [{'kind': 'customsearch#result', 'title': 'Fababy | Spotify', 'htmlTitle': '<b>Fababy</b> | Spotify', 'link': 'https://open.spotify.com/intl-es/artist/1ufm09MhiuoHpIFkbcIZGx', 'displayLink': 'open.spotify.com', 'snippet': 'Playlists del artista. Fababy - La Symphonie des chargeurs (Vol 2). Fababy ... Medición de anuncios y del contenido, información sobre el público y desarrollo de\\xa0...', 'htmlSnippet': '<b>Playlists del</b> artista. <b>Fababy</b> - <b>La Symphonie des chargeurs</b> (<b>Vol 2</b>). <b>Fababy</b> ... Medición <b>de</b> anuncios y <b>del</b> contenido, información sobre el público y desarrollo <b>de</b>&nbsp;...', 'cacheId': 'wbnfCo-W7qkJ', 'formattedUrl': 'https://open.spotify.com/intl-es/artist/1ufm09MhiuoHpIFkbcIZGx', 'htmlFormattedUrl': 'https://open.spotify.com/intl-es/artist/1ufm09MhiuoHpIFkbcIZGx', 'pagemap': {'cse_thumbnail': [{'src': 'https://encrypted-tbn0.gstatic.com/images?q=tbn:ANd9GcTE1o79gsUxfOKGmsEY0alRaWA-qVuHB9QBPTohzoj1x6S-AjzS8El3wuMG', 'width': '225', 'height': '225'}], 'metatags': [{'og:image': 'https://i.scdn.co/image/ab6761610000e5eb0a4107deecaf7cde0072fea4', 'og:type': 'profile', 'twitter:title': 'Fababy', 'twitter:card': 'summary', 'og:site_name': 'Spotify', 'al:ios:app_name': 'Spotify', 'og:title': 'Fababy', 'al:android:package': 'com.spotify.music', 'google': 'notranslate', 'al:ios:url': 'spotify://artist/1ufm09MhiuoHpIFkbcIZGx', 'og:description': 'Artista · 255.8K oyentes mensuales.', 'al:ios:app_store_id': '324684580', 'twitter:image': 'https://i.scdn.co/image/ab6761610000e5eb0a4107deecaf7cde0072fea4', 'al:android:url': 'spotify://artist/1ufm09MhiuoHpIFkbcIZGx', 'fb:app_id': '174829003346', 'twitter:site': '@spotify', 'viewport': 'width=device-width, initial-scale=1, maximum-scale=1', 'twitter:description': 'Artista · 255.8K oyentes mensuales.', 'og:url': 'https://open.spotify.com/intl-es/artist/1ufm09MhiuoHpIFkbcIZGx', 'al:android:app_name': 'Spotify'}], 'cse_image': [{'src': 'https://i.scdn.co/image/ab6761610000e5eb0a4107deecaf7cde0072fea4'}]}}, {'kind': 'customsearch#result', 'title': 'Morton Koopa Radio - playlist by Spotify | Spotify', 'htmlTitle': 'Morton Koopa Radio - <b>playlist</b> by Spotify | Spotify', 'link': 'https://open.spotify.com/playlist/37i9dQZF1E4zbif8iKKCyQ', 'displayLink': 'open.spotify.com', 'snippet': \"La symphonie des chargeurs. Fababy. Machine à laver. Seth Gueko. A quoi ça sert ... Zbat'Guirri, Vol. 2 - VRV. Zbatata, Ghetto Star. Mektoub. Sadek. Moonrock. No.\", 'htmlSnippet': '<b>La symphonie des chargeurs</b>. <b>Fababy</b>. Machine à laver. Seth Gueko. A quoi ça sert ... Zbat&#39;Guirri, <b>Vol</b>. <b>2</b> - VRV. Zbatata, Ghetto Star. Mektoub. Sadek. Moonrock. No.', 'cacheId': 'aNnT1KrXhRgJ', 'formattedUrl': 'https://open.spotify.com/playlist/37i9dQZF1E4zbif8iKKCyQ', 'htmlFormattedUrl': 'https://open.spotify.com/<b>playlist</b>/37i9dQZF1E4zbif8iKKCyQ', 'pagemap': {'metatags': [{'fb:app_id': '174829003346', 'og:type': 'music.playlist', 'og:site_name': 'Spotify', 'viewport': 'width=device-width, initial-scale=1, maximum-scale=1', 'og:title': 'Morton Koopa Radio', 'google': 'notranslate', 'og:url': 'https://open.spotify.com/playlist/37i9dQZF1E4zbif8iKKCyQ', 'og:description': 'Morton Koopa Radio · Playlist · 50 songs', 'og:restrictions:country:allowed': 'AR'}]}}, {'kind': 'customsearch#result', 'title': 'Fababy | Spotify', 'htmlTitle': '<b>Fababy</b> | Spotify', 'link': 'https://open.spotify.com/artist/1ufm09MhiuoHpIFkbcIZGx', 'displayLink': 'open.spotify.com', 'snippet': 'Artist Playlists. Fababy - Tous les sons (inclus « Outro » Symphonie des chargeurs II). Fababy - La Symphonie des chargeurs (Vol 2) ... le 24 janvier 1988 à Paris\\xa0...', 'htmlSnippet': 'Artist <b>Playlists</b>. <b>Fababy</b> - Tous les sons (inclus « Outro » <b>Symphonie des chargeurs</b> II). <b>Fababy</b> - <b>La Symphonie des chargeurs</b> (<b>Vol 2</b>) ... <b>le</b> 24 janvier 1988 à Paris&nbsp;...', 'cacheId': '8AR5BR0BvxgJ', 'formattedUrl': 'https://open.spotify.com/artist/1ufm09MhiuoHpIFkbcIZGx', 'htmlFormattedUrl': 'https://open.spotify.com/artist/1ufm09MhiuoHpIFkbcIZGx', 'pagemap': {'cse_thumbnail': [{'src': 'https://encrypted-tbn0.gstatic.com/images?q=tbn:ANd9GcTE1o79gsUxfOKGmsEY0alRaWA-qVuHB9QBPTohzoj1x6S-AjzS8El3wuMG', 'width': '225', 'height': '225'}], 'metatags': [{'og:image': 'https://i.scdn.co/image/ab6761610000e5eb0a4107deecaf7cde0072fea4', 'og:type': 'profile', 'twitter:title': 'Fababy', 'twitter:card': 'summary', 'og:site_name': 'Spotify', 'al:ios:app_name': 'Spotify', 'og:title': 'Fababy', 'al:android:package': 'com.spotify.music', 'google': 'notranslate', 'al:ios:url': 'spotify://artist/1ufm09MhiuoHpIFkbcIZGx', 'og:description': 'Artist · 257.7K monthly listeners.', 'al:ios:app_store_id': '324684580', 'twitter:image': 'https://i.scdn.co/image/ab6761610000e5eb0a4107deecaf7cde0072fea4', 'al:android:url': 'spotify://artist/1ufm09MhiuoHpIFkbcIZGx', 'fb:app_id': '174829003346', 'twitter:site': '@spotify', 'viewport': 'width=device-width, initial-scale=1, maximum-scale=1', 'twitter:description': 'Artist · 257.7K monthly listeners.', 'og:url': 'https://open.spotify.com/artist/1ufm09MhiuoHpIFkbcIZGx', 'al:android:app_name': 'Spotify'}], 'cse_image': [{'src': 'https://i.scdn.co/image/ab6761610000e5eb0a4107deecaf7cde0072fea4'}]}}, {'kind': 'customsearch#result', 'title': 'Fababy | Spotify', 'htmlTitle': '<b>Fababy</b> | Spotify', 'link': 'https://open.spotify.com/intl-it/artist/1ufm09MhiuoHpIFkbcIZGx', 'displayLink': 'open.spotify.com', 'snippet': \"Playlist dell'artista. Fababy - Symphonie, Vol 2. Fababy - La Symphonie des chargeurs ... del traffico del sito. Per ulteriori informazioni sulle finalità per cui\\xa0...\", 'htmlSnippet': '<b>Playlist</b> dell&#39;artista. <b>Fababy</b> - <b>Symphonie</b>, <b>Vol 2</b>. <b>Fababy</b> - <b>La Symphonie des chargeurs</b> ... <b>del</b> traffico <b>del</b> sito. Per ulteriori informazioni sulle finalità per cui&nbsp;...', 'cacheId': 'WkaIhkd8EEYJ', 'formattedUrl': 'https://open.spotify.com/intl-it/artist/1ufm09MhiuoHpIFkbcIZGx', 'htmlFormattedUrl': 'https://open.spotify.com/intl-it/artist/1ufm09MhiuoHpIFkbcIZGx', 'pagemap': {'cse_thumbnail': [{'src': 'https://encrypted-tbn0.gstatic.com/images?q=tbn:ANd9GcTE1o79gsUxfOKGmsEY0alRaWA-qVuHB9QBPTohzoj1x6S-AjzS8El3wuMG', 'width': '225', 'height': '225'}], 'metatags': [{'og:image': 'https://i.scdn.co/image/ab6761610000e5eb0a4107deecaf7cde0072fea4', 'og:type': 'profile', 'twitter:title': 'Fababy', 'twitter:card': 'summary', 'og:site_name': 'Spotify', 'al:ios:app_name': 'Spotify', 'og:title': 'Fababy', 'al:android:package': 'com.spotify.music', 'google': 'notranslate', 'al:ios:url': 'spotify://artist/1ufm09MhiuoHpIFkbcIZGx', 'og:description': 'Artista · 247.8K ascoltatori mensili.', 'al:ios:app_store_id': '324684580', 'twitter:image': 'https://i.scdn.co/image/ab6761610000e5eb0a4107deecaf7cde0072fea4', 'al:android:url': 'spotify://artist/1ufm09MhiuoHpIFkbcIZGx', 'fb:app_id': '174829003346', 'twitter:site': '@spotify', 'viewport': 'width=device-width, initial-scale=1, maximum-scale=1', 'twitter:description': 'Artista · 247.8K ascoltatori mensili.', 'og:url': 'https://open.spotify.com/intl-it/artist/1ufm09MhiuoHpIFkbcIZGx', 'al:android:app_name': 'Spotify'}], 'cse_image': [{'src': 'https://i.scdn.co/image/ab6761610000e5eb0a4107deecaf7cde0072fea4'}]}}, {'kind': 'customsearch#result', 'title': 'Fababy | Spotify', 'htmlTitle': '<b>Fababy</b> | Spotify', 'link': 'https://open.spotify.com/intl-id/artist/1ufm09MhiuoHpIFkbcIZGx', 'displayLink': 'open.spotify.com', 'snippet': 'Playlist Artis. Fababy - La Symphonie des chargeurs. Fababy - La Symphonie des chargeurs (Vol 2). Fababy - Tous les sons (inclus « Outro » Symphonie des\\xa0...', 'htmlSnippet': '<b>Playlist</b> Artis. <b>Fababy</b> - <b>La Symphonie des chargeurs</b>. <b>Fababy</b> - <b>La Symphonie des chargeurs</b> (<b>Vol 2</b>). <b>Fababy</b> - Tous les sons (inclus « Outro » <b>Symphonie des</b>&nbsp;...', 'cacheId': 'zvUnpAcbTQ4J', 'formattedUrl': 'https://open.spotify.com/intl-id/artist/1ufm09MhiuoHpIFkbcIZGx', 'htmlFormattedUrl': 'https://open.spotify.com/intl-id/artist/1ufm09MhiuoHpIFkbcIZGx', 'pagemap': {'cse_thumbnail': [{'src': 'https://encrypted-tbn0.gstatic.com/images?q=tbn:ANd9GcTE1o79gsUxfOKGmsEY0alRaWA-qVuHB9QBPTohzoj1x6S-AjzS8El3wuMG', 'width': '225', 'height': '225'}], 'metatags': [{'og:image': 'https://i.scdn.co/image/ab6761610000e5eb0a4107deecaf7cde0072fea4', 'og:type': 'profile', 'twitter:title': 'Fababy', 'twitter:card': 'summary', 'og:site_name': 'Spotify', 'al:ios:app_name': 'Spotify', 'og:title': 'Fababy', 'al:android:package': 'com.spotify.music', 'google': 'notranslate', 'al:ios:url': 'spotify://artist/1ufm09MhiuoHpIFkbcIZGx', 'og:description': 'Artis · 256.7K pendengar bulanan.', 'al:ios:app_store_id': '324684580', 'twitter:image': 'https://i.scdn.co/image/ab6761610000e5eb0a4107deecaf7cde0072fea4', 'al:android:url': 'spotify://artist/1ufm09MhiuoHpIFkbcIZGx', 'fb:app_id': '174829003346', 'twitter:site': '@spotify', 'viewport': 'width=device-width, initial-scale=1, maximum-scale=1', 'twitter:description': 'Artis · 256.7K pendengar bulanan.', 'og:url': 'https://open.spotify.com/intl-id/artist/1ufm09MhiuoHpIFkbcIZGx', 'al:android:app_name': 'Spotify'}], 'cse_image': [{'src': 'https://i.scdn.co/image/ab6761610000e5eb0a4107deecaf7cde0072fea4'}]}}, {'kind': 'customsearch#result', 'title': 'Fababy | Spotify', 'htmlTitle': '<b>Fababy</b> | Spotify', 'link': 'https://open.spotify.com/intl-fr/artist/1ufm09MhiuoHpIFkbcIZGx', 'displayLink': 'open.spotify.com', 'snippet': \"Playlists de l'artiste · Fababy - Tous les sons (inclus « Outro » Symphonie des chargeurs II) · Fababy - La Symphonie des chargeurs (Vol 2) · Fababy - La Symphonie\\xa0...\", 'htmlSnippet': '<b>Playlists de</b> l&#39;artiste &middot; <b>Fababy</b> - Tous les sons (inclus « Outro » <b>Symphonie des chargeurs</b> II) &middot; <b>Fababy</b> - <b>La Symphonie des chargeurs</b> (<b>Vol 2</b>) &middot; <b>Fababy</b> - <b>La Symphonie</b>&nbsp;...', 'cacheId': 'WxWoBMfJia4J', 'formattedUrl': 'https://open.spotify.com/intl-fr/artist/1ufm09MhiuoHpIFkbcIZGx', 'htmlFormattedUrl': 'https://open.spotify.com/intl-fr/artist/1ufm09MhiuoHpIFkbcIZGx', 'pagemap': {'cse_thumbnail': [{'src': 'https://encrypted-tbn0.gstatic.com/images?q=tbn:ANd9GcTE1o79gsUxfOKGmsEY0alRaWA-qVuHB9QBPTohzoj1x6S-AjzS8El3wuMG', 'width': '225', 'height': '225'}], 'metatags': [{'og:image': 'https://i.scdn.co/image/ab6761610000e5eb0a4107deecaf7cde0072fea4', 'og:type': 'profile', 'twitter:title': 'Fababy', 'twitter:card': 'summary', 'og:site_name': 'Spotify', 'al:ios:app_name': 'Spotify', 'og:title': 'Fababy', 'al:android:package': 'com.spotify.music', 'google': 'notranslate', 'al:ios:url': 'spotify://artist/1ufm09MhiuoHpIFkbcIZGx', 'og:description': 'Artiste · 256K\\xa0auditeurs mensuels.', 'al:ios:app_store_id': '324684580', 'twitter:image': 'https://i.scdn.co/image/ab6761610000e5eb0a4107deecaf7cde0072fea4', 'al:android:url': 'spotify://artist/1ufm09MhiuoHpIFkbcIZGx', 'fb:app_id': '174829003346', 'twitter:site': '@spotify', 'viewport': 'width=device-width, initial-scale=1, maximum-scale=1', 'twitter:description': 'Artiste · 256K\\xa0auditeurs mensuels.', 'og:url': 'https://open.spotify.com/intl-fr/artist/1ufm09MhiuoHpIFkbcIZGx', 'al:android:app_name': 'Spotify'}], 'cse_image': [{'src': 'https://i.scdn.co/image/ab6761610000e5eb0a4107deecaf7cde0072fea4'}]}}, {'kind': 'customsearch#result', 'title': \"Love d'un voyou - song and lyrics by Fababy, Aya Nakamura | Spotify\", 'htmlTitle': 'Love d&#39;un voyou - song and lyrics by <b>Fababy</b>, Aya Nakamura | Spotify', 'link': 'https://open.spotify.com/track/4yEIbTQzeIjRox6KLXI684', 'displayLink': 'open.spotify.com', 'snippet': 'La symphonie des chargeurs. Album • 2012. Popular Singles and EPs by Fababy ... 2:54. © 2016 Millenium, un label Maison Barclay. ℗ 2016 Millenium, un label\\xa0...', 'htmlSnippet': '<b>La symphonie des chargeurs</b>. Album • 2012. Popular Singles and EPs by <b>Fababy</b> ... <b>2</b>:54. © 2016 Millenium, un label Maison Barclay. ℗ 2016 Millenium, un label&nbsp;...', 'cacheId': 'AsnyPSi6hHAJ', 'formattedUrl': 'https://open.spotify.com/track/4yEIbTQzeIjRox6KLXI684', 'htmlFormattedUrl': 'https://open.spotify.com/track/4yEIbTQzeIjRox6KLXI684', 'pagemap': {'cse_thumbnail': [{'src': 'https://encrypted-tbn3.gstatic.com/images?q=tbn:ANd9GcQ7AYcNmrb_HwuS8_GaBOsJ_lgRWHTvYtGZK1uFgl01uhn7qwFNG85p2yDB', 'width': '225', 'height': '225'}], 'metatags': [{'twitter:card': 'summary', 'og:site_name': 'Spotify', 'al:android:package': 'com.spotify.music', 'al:ios:url': 'spotify://track/4yEIbTQzeIjRox6KLXI684', 'og:description': 'Fababy, Aya Nakamura · Song · 2016', 'al:ios:app_store_id': '324684580', 'twitter:image': 'https://i.scdn.co/image/ab67616d0000b27301bf02d1fce9dc0699b4ea70', 'music:album': 'https://open.spotify.com/album/7CsH1Es97MYtNeZUz2kcap', 'twitter:site': '@spotify', 'music:release_date': '2016-03-11', 'music:duration': '236', 'og:restrictions:country:allowed': 'AR', 'music:album:track': '7', 'twitter:title': \"Love d'un voyou\", 'og:type': 'music.song', 'al:ios:app_name': 'Spotify', 'music:musician': 'https://open.spotify.com/artist/1ufm09MhiuoHpIFkbcIZGx', 'og:title': \"Love d'un voyou\", 'google': 'notranslate', 'al:android:url': 'spotify://track/4yEIbTQzeIjRox6KLXI684', 'fb:app_id': '174829003346', 'viewport': 'width=device-width, initial-scale=1, maximum-scale=1', 'twitter:description': 'Fababy, Aya Nakamura · Song · 2016', 'og:url': 'https://open.spotify.com/track/4yEIbTQzeIjRox6KLXI684', 'al:android:app_name': 'Spotify'}], 'cse_image': [{'src': 'https://i.scdn.co/image/ab67616d00001e0201bf02d1fce9dc0699b4ea70'}]}}, {'kind': 'customsearch#result', 'title': 'Fababy | Spotify', 'htmlTitle': '<b>Fababy</b> | Spotify', 'link': 'https://open.spotify.com/intl-de/artist/1ufm09MhiuoHpIFkbcIZGx', 'displayLink': 'open.spotify.com', 'snippet': \"La symphonie des chargeurs. Album • 2012. Singles und EPs. COMME CA (feat ... Capitale du crime, vol. 3. La plume & le poignard. Laissez passer l'artiste. Nouvel\\xa0...\", 'htmlSnippet': '<b>La symphonie des chargeurs</b>. Album • 2012. Singles und EPs. COMME CA (feat ... Capitale <b>du</b> crime, <b>vol</b>. 3. <b>La</b> plume &amp; <b>le</b> poignard. Laissez passer l&#39;artiste. Nouvel&nbsp;...', 'cacheId': 'gnIzzaqCtboJ', 'formattedUrl': 'https://open.spotify.com/intl-de/artist/1ufm09MhiuoHpIFkbcIZGx', 'htmlFormattedUrl': 'https://open.spotify.com/intl-de/artist/1ufm09MhiuoHpIFkbcIZGx', 'pagemap': {'cse_thumbnail': [{'src': 'https://encrypted-tbn2.gstatic.com/images?q=tbn:ANd9GcTzf76Xes7krmhri5vS-3eXSILKEqhiaVs3QFNVDH68nTuNm28cPoiV2Zs', 'width': '204', 'height': '247'}], 'metatags': [{'og:image': 'https://i.scdn.co/image/ab6761610000e5eb85b5dc1d5fd49de831414432', 'og:type': 'profile', 'twitter:title': 'Fababy', 'twitter:card': 'summary', 'og:site_name': 'Spotify', 'al:ios:app_name': 'Spotify', 'og:title': 'Fababy', 'al:android:package': 'com.spotify.music', 'google': 'notranslate', 'al:ios:url': 'spotify://artist/1ufm09MhiuoHpIFkbcIZGx', 'og:description': 'Künstler*in · 239.4K\\xa0monatliche Hörer*innen.', 'al:ios:app_store_id': '324684580', 'twitter:image': 'https://i.scdn.co/image/ab6761610000e5eb85b5dc1d5fd49de831414432', 'al:android:url': 'spotify://artist/1ufm09MhiuoHpIFkbcIZGx', 'fb:app_id': '174829003346', 'twitter:site': '@spotify', 'viewport': 'width=device-width, initial-scale=1, maximum-scale=1', 'twitter:description': 'Künstler*in · 239.4K\\xa0monatliche Hörer*innen.', 'og:url': 'https://open.spotify.com/intl-de/artist/1ufm09MhiuoHpIFkbcIZGx', 'al:android:app_name': 'Spotify'}], 'cse_image': [{'src': 'https://i.scdn.co/image/ab6761610000e5eb85b5dc1d5fd49de831414432'}]}}]}\n",
      "RÃ©my, Le fils de la gardienne playlist\n",
      "{'kind': 'customsearch#search', 'url': {'type': 'application/json', 'template': 'https://www.googleapis.com/customsearch/v1?q={searchTerms}&num={count?}&start={startIndex?}&lr={language?}&safe={safe?}&cx={cx?}&sort={sort?}&filter={filter?}&gl={gl?}&cr={cr?}&googlehost={googleHost?}&c2coff={disableCnTwTranslation?}&hq={hq?}&hl={hl?}&siteSearch={siteSearch?}&siteSearchFilter={siteSearchFilter?}&exactTerms={exactTerms?}&excludeTerms={excludeTerms?}&linkSite={linkSite?}&orTerms={orTerms?}&relatedSite={relatedSite?}&dateRestrict={dateRestrict?}&lowRange={lowRange?}&highRange={highRange?}&searchType={searchType}&fileType={fileType?}&rights={rights?}&imgSize={imgSize?}&imgType={imgType?}&imgColorType={imgColorType?}&imgDominantColor={imgDominantColor?}&alt=json'}, 'queries': {'request': [{'title': 'Google Custom Search - RÃ©my, Le fils de la gardienne playlist', 'searchTerms': 'RÃ©my, Le fils de la gardienne playlist', 'count': 10, 'startIndex': 1, 'inputEncoding': 'utf8', 'outputEncoding': 'utf8', 'safe': 'off', 'cx': '91587380115664474'}]}, 'searchInformation': {'searchTime': 0.169346, 'formattedSearchTime': '0.17', 'totalResults': '0', 'formattedTotalResults': '0'}}\n"
     ]
    },
    {
     "ename": "KeyError",
     "evalue": "'items'",
     "output_type": "error",
     "traceback": [
      "\u001b[0;31m---------------------------------------------------------------------------\u001b[0m",
      "\u001b[0;31mKeyError\u001b[0m                                  Traceback (most recent call last)",
      "\u001b[1;32m/home/mrcyme/Documents/development/playswap-agents/dev.ipynb Cell 8\u001b[0m line \u001b[0;36m2\n\u001b[1;32m      <a href='vscode-notebook-cell:/home/mrcyme/Documents/development/playswap-agents/dev.ipynb#X10sZmlsZQ%3D%3D?line=0'>1</a>\u001b[0m \u001b[39m#create_upcoming_release_playlist_candidates_from_url(\"https://sansrefrain.fr/agenda-des-sorties-albums-et-singles-rap-francais/\", model=\"gpt-4-1106-preview\", scraper=\"selenium\")\u001b[39;00m\n\u001b[0;32m----> <a href='vscode-notebook-cell:/home/mrcyme/Documents/development/playswap-agents/dev.ipynb#X10sZmlsZQ%3D%3D?line=1'>2</a>\u001b[0m create_upcoming_release_playlist_candidates_from_url(\u001b[39m\"\u001b[39m\u001b[39mhttps://www.trackmusik.fr/media/albums-rap-francais\u001b[39m\u001b[39m\"\u001b[39m)\n",
      "\u001b[1;32m/home/mrcyme/Documents/development/playswap-agents/dev.ipynb Cell 8\u001b[0m line \u001b[0;36m9\n\u001b[1;32m     <a href='vscode-notebook-cell:/home/mrcyme/Documents/development/playswap-agents/dev.ipynb#X10sZmlsZQ%3D%3D?line=87'>88</a>\u001b[0m description\u001b[39m=\u001b[39m create_playlist_description_from_album(a)\n\u001b[1;32m     <a href='vscode-notebook-cell:/home/mrcyme/Documents/development/playswap-agents/dev.ipynb#X10sZmlsZQ%3D%3D?line=88'>89</a>\u001b[0m \u001b[39mprint\u001b[39m(\u001b[39mf\u001b[39m\u001b[39m\"\u001b[39m\u001b[39m{\u001b[39;00ma[\u001b[39m'\u001b[39m\u001b[39martist\u001b[39m\u001b[39m'\u001b[39m]\u001b[39m}\u001b[39;00m\u001b[39m, \u001b[39m\u001b[39m{\u001b[39;00ma[\u001b[39m'\u001b[39m\u001b[39mtitle\u001b[39m\u001b[39m'\u001b[39m]\u001b[39m}\u001b[39;00m\u001b[39m playlist\u001b[39m\u001b[39m\"\u001b[39m\u001b[39m.\u001b[39mencode(\u001b[39m'\u001b[39m\u001b[39mutf-8\u001b[39m\u001b[39m'\u001b[39m)\u001b[39m.\u001b[39mdecode(\u001b[39m'\u001b[39m\u001b[39municode_escape\u001b[39m\u001b[39m'\u001b[39m))\n\u001b[0;32m---> <a href='vscode-notebook-cell:/home/mrcyme/Documents/development/playswap-agents/dev.ipynb#X10sZmlsZQ%3D%3D?line=89'>90</a>\u001b[0m influences \u001b[39m=\u001b[39m google_search_playlists(\u001b[39mf\u001b[39m\u001b[39m\"\u001b[39m\u001b[39m{\u001b[39;00ma[\u001b[39m'\u001b[39m\u001b[39martist\u001b[39m\u001b[39m'\u001b[39m]\u001b[39m}\u001b[39;00m\u001b[39m, \u001b[39m\u001b[39m{\u001b[39;00ma[\u001b[39m'\u001b[39m\u001b[39mtitle\u001b[39m\u001b[39m'\u001b[39m]\u001b[39m}\u001b[39;00m\u001b[39m playlist\u001b[39m\u001b[39m\"\u001b[39m\u001b[39m.\u001b[39mencode(\u001b[39m'\u001b[39m\u001b[39mutf-8\u001b[39m\u001b[39m'\u001b[39m)\u001b[39m.\u001b[39mdecode(\u001b[39m'\u001b[39m\u001b[39municode_escape\u001b[39m\u001b[39m'\u001b[39m))\n\u001b[1;32m     <a href='vscode-notebook-cell:/home/mrcyme/Documents/development/playswap-agents/dev.ipynb#X10sZmlsZQ%3D%3D?line=90'>91</a>\u001b[0m image \u001b[39m=\u001b[39m google_search_image(\u001b[39mf\u001b[39m\u001b[39m\"\u001b[39m\u001b[39m{\u001b[39;00ma[\u001b[39m'\u001b[39m\u001b[39martist\u001b[39m\u001b[39m'\u001b[39m]\u001b[39m}\u001b[39;00m\u001b[39m, \u001b[39m\u001b[39m{\u001b[39;00ma[\u001b[39m'\u001b[39m\u001b[39mtitle\u001b[39m\u001b[39m'\u001b[39m]\u001b[39m}\u001b[39;00m\u001b[39m\"\u001b[39m)\n\u001b[1;32m     <a href='vscode-notebook-cell:/home/mrcyme/Documents/development/playswap-agents/dev.ipynb#X10sZmlsZQ%3D%3D?line=91'>92</a>\u001b[0m playlist_candidates\u001b[39m.\u001b[39mappend({\u001b[39m\"\u001b[39m\u001b[39mtitle\u001b[39m\u001b[39m\"\u001b[39m: title, \u001b[39m\"\u001b[39m\u001b[39mdescription\u001b[39m\u001b[39m\"\u001b[39m: description, \u001b[39m\"\u001b[39m\u001b[39minfluences\u001b[39m\u001b[39m\"\u001b[39m:\u001b[39m\"\u001b[39m\u001b[39m,\u001b[39m\u001b[39m\"\u001b[39m\u001b[39m.\u001b[39mjoin(influences), \u001b[39m\"\u001b[39m\u001b[39madditional infos\u001b[39m\u001b[39m\"\u001b[39m:\u001b[39mf\u001b[39m\u001b[39m\"\u001b[39m\u001b[39mPlaylist created for release \u001b[39m\u001b[39m{\u001b[39;00ma[\u001b[39m'\u001b[39m\u001b[39mtitle\u001b[39m\u001b[39m'\u001b[39m]\u001b[39m}\u001b[39;00m\u001b[39m by \u001b[39m\u001b[39m{\u001b[39;00ma[\u001b[39m'\u001b[39m\u001b[39martist\u001b[39m\u001b[39m'\u001b[39m]\u001b[39m}\u001b[39;00m\u001b[39m\"\u001b[39m, \u001b[39m\"\u001b[39m\u001b[39mimage\u001b[39m\u001b[39m\"\u001b[39m: image})\n",
      "\u001b[1;32m/home/mrcyme/Documents/development/playswap-agents/dev.ipynb Cell 8\u001b[0m line \u001b[0;36m6\n\u001b[1;32m      <a href='vscode-notebook-cell:/home/mrcyme/Documents/development/playswap-agents/dev.ipynb#X10sZmlsZQ%3D%3D?line=3'>4</a>\u001b[0m resp \u001b[39m=\u001b[39m requests\u001b[39m.\u001b[39mget(url)\u001b[39m.\u001b[39mjson()\n\u001b[1;32m      <a href='vscode-notebook-cell:/home/mrcyme/Documents/development/playswap-agents/dev.ipynb#X10sZmlsZQ%3D%3D?line=4'>5</a>\u001b[0m \u001b[39mprint\u001b[39m(resp)\n\u001b[0;32m----> <a href='vscode-notebook-cell:/home/mrcyme/Documents/development/playswap-agents/dev.ipynb#X10sZmlsZQ%3D%3D?line=5'>6</a>\u001b[0m \u001b[39mreturn\u001b[39;00m [s[\u001b[39m\"\u001b[39m\u001b[39mlink\u001b[39m\u001b[39m\"\u001b[39m] \u001b[39mfor\u001b[39;00m s \u001b[39min\u001b[39;00m resp[\u001b[39m\"\u001b[39m\u001b[39mitems\u001b[39m\u001b[39m\"\u001b[39m][\u001b[39m0\u001b[39m:n]]\n",
      "\u001b[0;31mKeyError\u001b[0m: 'items'"
     ]
    }
   ],
   "source": [
    "#create_upcoming_release_playlist_candidates_from_url(\"https://sansrefrain.fr/agenda-des-sorties-albums-et-singles-rap-francais/\", model=\"gpt-4-1106-preview\", scraper=\"selenium\")\n",
    "create_upcoming_release_playlist_candidates_from_url(\"https://www.trackmusik.fr/media/albums-rap-francais\")"
   ]
  },
  {
   "cell_type": "code",
   "execution_count": 7,
   "metadata": {},
   "outputs": [
    {
     "name": "stdout",
     "output_type": "stream",
     "text": [
      "1978\n",
      "2299\n",
      "[{'title': 'Various artists - Yellowjackets season two soundtrack', 'artist': 'Various artists', 'date': datetime.datetime(2023, 9, 1, 0, 0)}, {'title': 'Olivia Rodrigo - GUTS', 'artist': 'Olivia Rodrigo', 'date': datetime.datetime(2023, 9, 8, 0, 0)}, {'title': 'V - Layover', 'artist': 'V', 'date': datetime.datetime(2023, 9, 8, 0, 0)}, {'title': 'Demi Lovato - Revamped', 'artist': 'Demi Lovato', 'date': datetime.datetime(2023, 9, 15, 0, 0)}, {'title': 'Diddy - The Love Album: Off the Grid', 'artist': 'Diddy', 'date': datetime.datetime(2023, 9, 15, 0, 0)}, {'title': 'Kelly Clarkson - Chemistry (Deluxe)', 'artist': 'Kelly Clarkson', 'date': datetime.datetime(2023, 9, 22, 0, 0)}, {'title': 'Kylie Minogue - Tension', 'artist': 'Kylie Minogue', 'date': datetime.datetime(2023, 9, 22, 0, 0)}, {'title': \"Taylor Swift - 1989 (Taylor's Version)\", 'artist': 'Taylor Swift', 'date': datetime.datetime(2023, 10, 27, 0, 0)}, {'title': 'Various artists - A Tribute to The Judds', 'artist': 'Various artists', 'date': datetime.datetime(2023, 10, 27, 0, 0)}, {'title': 'Chris Stapleton - Higher', 'artist': 'Chris Stapleton', 'date': datetime.datetime(2023, 11, 10, 0, 0)}, {'title': 'Dolly Parton - Rockstar', 'artist': 'Dolly Parton', 'date': datetime.datetime(2023, 11, 17, 0, 0)}, {'title': 'Nicki Minaj - Pink Friday 2', 'artist': 'Nicki Minaj', 'date': datetime.datetime(2023, 11, 17, 0, 0)}]\n"
     ]
    },
    {
     "data": {
      "text/plain": [
       "[{'title': '\"Yellowjackets S2 OST: Eclectic Vibes\"',\n",
       "  'description': 'La playlist ultime pour les fans de la série Yellowjackets saison deux, avec la bande originale captivante interprétée par divers artistes.',\n",
       "  'influences': 'https://open.spotify.com/track/3L2LHQIzwLshvWKz07NZv5,https://open.spotify.com/album/1khiHkdRH0RX3dOf2ZTKXY,https://open.spotify.com/album/44MoiIXWGc5WhwB7AJwnCB',\n",
       "  'additional infos': 'Playlist created for release Various artists - Yellowjackets season two soundtrack by Various artists',\n",
       "  'image': 'https://img.broadtime.com/418467253006:500.webp'},\n",
       " {'title': '\"GUTS: Olivia Rodrigo\\'s Musical Journey\"',\n",
       "  'description': '\"Plongez dans l\\'univers émotionnellement puissant d\\'Olivia Rodrigo avec son album GUTS, où sa voix captivante et ses paroles sincères vous transportent dans un voyage introspectif.\"',\n",
       "  'influences': 'https://open.spotify.com/playlist/4aurFBWbfxIOae2vkkdAP9,https://open.spotify.com/artist/1McMsnEElThX1knmY4oliG,https://open.spotify.com/playlist/37i9dQZF1EIV5ihzgPnqBl',\n",
       "  'additional infos': 'Playlist created for release Olivia Rodrigo - GUTS by Olivia Rodrigo',\n",
       "  'image': 'https://target.scene7.com/is/image/Target/GUEST_2676f28a-b8fc-4101-a258-78ecea73caac?wid=488&hei=488&fmt=pjpeg'},\n",
       " {'title': '\"V\\'s Layover Journey\"',\n",
       "  'description': '\"Plongez dans l\\'univers envoûtant de V avec son album \\'Layover\\' : une playlist qui vous transporte dans un voyage musical captivant.\"',\n",
       "  'influences': 'https://open.spotify.com/playlist/0Z3HoH5iqOVfwl0wtOAOmW,https://open.spotify.com/playlist/423V2mQxHLFP3NbUGE6A2W,https://open.spotify.com/playlist/4ft2NIXRbNFeCxepTOMHlz',\n",
       "  'additional infos': 'Playlist created for release V - Layover by V',\n",
       "  'image': 'https://target.scene7.com/is/image/Target/GUEST_d7bd7a0f-e011-41c3-af0f-c6a38bcf2c12?wid=488&hei=488&fmt=pjpeg'},\n",
       " {'title': '\"Revamped: Demi Lovato\\'s Ultimate Playlist\"',\n",
       "  'description': '\"Plongez dans l\\'univers puissant et émouvant de Demi Lovato avec son album \\'Revamped\\'. Découvrez ses hits incontournables et ses nouvelles versions captivantes, pour une expérience musicale intense et inspirante.\"',\n",
       "  'influences': 'https://open.spotify.com/artist/6S2OmqARrzebs0tKUEyXyp,https://open.spotify.com/playlist/4TvHsIqIN30f6pHX179A6d,https://open.spotify.com/playlist/0511xJj3C9JERFuFK4J5gb',\n",
       "  'additional infos': 'Playlist created for release Demi Lovato - Revamped by Demi Lovato',\n",
       "  'image': 'https://shop.demilovato.com/cdn/shop/files/Demi_CD_Mock_square_4b9b040f-8d8c-4a68-9f46-70b215ae4d24_470x.png?v=1689336650'},\n",
       " {'title': '\"Off the Grid Love: Diddy\\'s Playlist\"',\n",
       "  'description': 'Une playlist envoûtante qui met en valeur l\\'album \"The Love Album: Off the Grid\" de Diddy, l\\'artiste emblématique de la musique hip-hop.',\n",
       "  'influences': 'https://open.spotify.com/show/0u8NBMvWajLvc66r9NsJJs,https://open.spotify.com/track/6tDHvBGdbRktBD1YV4Q3Su?autoplay=true,https://open.spotify.com/artist/56IV1D1ol0hUvVvP5y6I2X',\n",
       "  'additional infos': 'Playlist created for release Diddy - The Love Album: Off the Grid by Diddy',\n",
       "  'image': 'https://www.nme.com/wp-content/uploads/2023/08/diddy@2000x1270-696x442.jpg'},\n",
       " {'title': '\"Chemistry Deluxe: Kelly Clarkson\\'s Ultimate Playlist\"',\n",
       "  'description': 'Découvrez l\\'incroyable talent vocal de Kelly Clarkson à travers son album \"Chemistry (Deluxe)\" sur cette playlist Spotify.',\n",
       "  'influences': 'https://open.spotify.com/playlist/3YAkLacJ9czdabJjk4iLQD,https://open.spotify.com/artist/3BmGtnKgCSGYIUhmivXKWX,https://open.spotify.com/track/5tHhzwooezatUFA0jZ9aC1',\n",
       "  'additional infos': 'Playlist created for release Kelly Clarkson - Chemistry (Deluxe) by Kelly Clarkson',\n",
       "  'image': 'https://www.kellyclarksonmerch.com/dw/image/v2/BHCC_PRD/on/demandware.static/-/Sites-warner-master/default/dwa030880c/KELLY%20CLARKSON/KC-ChemistryDeluxe_Product_Music-POD.png?sw=550&sh=550&sm=fit'},\n",
       " {'title': '\"Tension: Kylie Minogue\\'s Electrifying Playlist\"',\n",
       "  'description': '\"Plongez dans l\\'univers électrisant de Kylie Minogue avec son album \\'Tension\\' : une playlist qui vous fera danser et vibrer au rythme des hits de cette icône de la pop.\"',\n",
       "  'influences': 'https://open.spotify.com/playlist/0koMMyLS8JyB5rHRAqCH3d,https://open.spotify.com/playlist/2kynOePTGBuCULGcQZSAaZ,https://open.spotify.com/playlist/5kBXb0o2dMIh1gGSoSeT1D',\n",
       "  'additional infos': 'Playlist created for release Kylie Minogue - Tension by Kylie Minogue',\n",
       "  'image': 'https://www.kylie.com/_assets2/images/Vinyl-silver.png'},\n",
       " {'title': '\"1989 (Taylor\\'s Version): Taylor Swift Rewind\"',\n",
       "  'description': 'Plongez dans l\\'univers rétro et captivant de Taylor Swift avec son album \"1989 (Taylor\\'s Version)\" où elle revisite ses plus grands succès avec une touche de nostalgie et d\\'authenticité.',\n",
       "  'influences': 'https://open.spotify.com/playlist/4sFuHQ9zRqeuZ1Q5kcZJTI,https://open.spotify.com/playlist/47xO3d47NZSm5LTuAFEZ0j,https://open.spotify.com/playlist/6AFPqWVWAz2bKD8yxHDYXR',\n",
       "  'additional infos': \"Playlist created for release Taylor Swift - 1989 (Taylor's Version) by Taylor Swift\",\n",
       "  'image': 'https://imageio.forbes.com/specials-images/imageserve/64d4aa94568324718fd9eed6/The-Final-Night-Of-Taylor-Swift---The-Eras-Tour---Los-Angeles--CA/0x0.jpg?crop=5000,2815,x0,y122,safe&height=400&width=711&fit=bounds'},\n",
       " {'title': '\"Hommage aux Judds : Various Artists\"',\n",
       "  'description': '\"Une playlist émouvante et nostalgique rendant hommage à l\\'album \\'A Tribute to The Judds\\' par Various artists.\"',\n",
       "  'influences': 'https://open.spotify.com/show/6XYvzprNIU7VnVr9obac7O,https://open.spotify.com/artist/7dmeVSH4lJqxXU7C87dKIB,https://open.spotify.com/show/43EofMf6uRtsBH4YUPYCXb',\n",
       "  'additional infos': 'Playlist created for release Various artists - A Tribute to The Judds by Various artists',\n",
       "  'image': 'https://static.wixstatic.com/media/a08b34_2b56e91ad7094010aec6a0b106e6f4fe~mv2.png/v1/fill/w_640,h_360,al_c,q_85,usm_0.66_1.00_0.01,enc_auto/a08b34_2b56e91ad7094010aec6a0b106e6f4fe~mv2.png'},\n",
       " {'title': '\"Higher: Chris Stapleton\\'s Soulful Journey\"',\n",
       "  'description': '\"Plongez dans l\\'univers authentique et envoûtant de Chris Stapleton avec son album \\'Higher\\'. Laissez-vous transporter par sa voix puissante et ses mélodies country-rock intemporelles.\"',\n",
       "  'influences': 'https://open.spotify.com/playlist/2G54DG9ZbdIUnVBUmYEmjM,https://open.spotify.com/playlist/37i9dQZF1DZ06evO2Vjk40,https://open.spotify.com/artist/4YLtscXsxbVgi031ovDDdh',\n",
       "  'additional infos': 'Playlist created for release Chris Stapleton - Higher by Chris Stapleton',\n",
       "  'image': 'https://americansongwriter.com/wp-content/uploads/2023/07/chris_stapleton_cover.jpg?w=662'},\n",
       " {'title': '\"Rockstar: Dolly Parton\\'s Greatest Hits\"',\n",
       "  'description': '\"Une playlist envoûtante mettant en valeur l\\'album Rockstar de Dolly Parton, l\\'icône de la musique country qui captive les auditeurs avec sa voix puissante et ses paroles inspirantes.\"',\n",
       "  'influences': 'https://open.spotify.com/playlist/5MVexsLwLMubhojHLJxdDH,https://open.spotify.com/artist/32vWCbZh0xZ4o9gkz4PsEU,https://open.spotify.com/playlist/51yasXwLyGbAG0hwUEYPfZ',\n",
       "  'additional infos': 'Playlist created for release Dolly Parton - Rockstar by Dolly Parton',\n",
       "  'image': 'https://upload.wikimedia.org/wikipedia/en/2/2a/Dolly_Parton_-_Rockstar.jpg'},\n",
       " {'title': '\"Pink Friday 2: Nicki\\'s Epic Journey\"',\n",
       "  'description': '\"Plongez dans l\\'univers audacieux et captivant de Nicki Minaj avec son album incontournable Pink Friday 2, regorgeant de hits et de sa personnalité unique.\"',\n",
       "  'influences': 'https://open.spotify.com/artist/0hCNtLu0JehylgoiP8L4Gh,https://open.spotify.com/playlist/3Z8V9NySjfDDCNvLsbD19h,https://open.spotify.com/playlist/37i9dQZF1E4yHs4ZMShnYz',\n",
       "  'additional infos': 'Playlist created for release Nicki Minaj - Pink Friday 2 by Nicki Minaj',\n",
       "  'image': 'https://imgs.capitalfm.com/images/588173?crop=16_9&width=660&relax=1&format=webp&signature=haAuE6aueqcW97KYKytfn-Rojto='}]"
      ]
     },
     "execution_count": 7,
     "metadata": {},
     "output_type": "execute_result"
    }
   ],
   "source": [
    "create_upcoming_release_playlist_candidates_from_url(\"https://www.billboard.com/lists/new-albums-2023-calendar-new-music-releases-this-year/june-3/\")\n",
    "https://sansrefrain.fr/agenda-des-sorties-albums-et-singles-rap-francais/"
   ]
  },
  {
   "cell_type": "code",
   "execution_count": null,
   "metadata": {},
   "outputs": [],
   "source": []
  }
 ],
 "metadata": {
  "kernelspec": {
   "display_name": "playswapAgents",
   "language": "python",
   "name": "python3"
  },
  "language_info": {
   "codemirror_mode": {
    "name": "ipython",
    "version": 3
   },
   "file_extension": ".py",
   "mimetype": "text/x-python",
   "name": "python",
   "nbconvert_exporter": "python",
   "pygments_lexer": "ipython3",
   "version": "3.11.5"
  },
  "orig_nbformat": 4
 },
 "nbformat": 4,
 "nbformat_minor": 2
}
