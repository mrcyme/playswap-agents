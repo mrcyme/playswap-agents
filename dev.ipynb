{
 "cells": [
  {
   "cell_type": "code",
   "execution_count": 1,
   "metadata": {},
   "outputs": [],
   "source": [
    "from langchain.chat_models import ChatOpenAI\n",
    "from langchain.agents import tool\n",
    "from langchain.schema import HumanMessage\n",
    "from langchain.tools import Tool\n",
    "\n",
    "import requests\n",
    "from bs4 import BeautifulSoup\n",
    "import datetime\n",
    "import json\n",
    "import os\n",
    "import dateparser\n",
    "import urllib.parse\n",
    "import tiktoken\n",
    "from langchain.utilities import GoogleSearchAPIWrapper\n",
    "with open(\"./keys.json\", 'r') as j:\n",
    "    keys = json.loads(j.read())\n",
    "    os.environ[\"OPENAI_API_KEY\"] = keys[\"OPENAI_API_KEY\"]\n",
    "    os.environ[\"GOOGLE_API_KEY\"] = keys[\"GOOGLE_API_KEY\"]\n"
   ]
  },
  {
   "cell_type": "code",
   "execution_count": 2,
   "metadata": {},
   "outputs": [],
   "source": [
    "LLM_FUNCTION_CALLING = ChatOpenAI(model='gpt-3.5-turbo-0613', temperature=0)\n",
    "LLM = ChatOpenAI(model='gpt-3.5-turbo', temperature=0)\n",
    "ENCODING = tiktoken.encoding_for_model(\"gpt-3.5-turbo\")\n",
    "\n",
    "\n",
    "def google_search_playlists(query):\n",
    "    os.environ[\"GOOGLE_CSE_ID\"] = keys[\"GOOGLE_CSE_ID_SPOTIFY\"]\n",
    "    gs = GoogleSearchAPIWrapper()\n",
    "    search = Tool(\n",
    "        name=\"Google Search\",\n",
    "        description=\"Search Google for spotify playlists\",\n",
    "        func= lambda query: gs.results(query, 3),\n",
    "    )\n",
    "    return [s[\"link\"] for s in search.run(query)]\n",
    "\n",
    "def google_search_image(query):\n",
    "    query = urllib.parse.quote(query)\n",
    "    url = f\"https://customsearch.googleapis.com/customsearch/v1?cx={keys['GOOGLE_CSE_ID_IMAGE']}&imgSize=LARGE&imgType=photo&q={query}&searchType=image&key={keys['GOOGLE_API_KEY']}\"\n",
    "    resp = requests.get(url).json()\n",
    "    return resp[\"items\"][0][\"link\"]\n",
    "    \n",
    "\n",
    "\n",
    "def num_tokens_from_string(string: str) -> int:\n",
    "    \"\"\"Returns the number of tokens in a text string.\"\"\"\n",
    "    num_tokens = len(ENCODING.encode(string))\n",
    "    return num_tokens"
   ]
  },
  {
   "cell_type": "code",
   "execution_count": 4,
   "metadata": {},
   "outputs": [
    {
     "data": {
      "text/plain": [
       "'https://i1.sndcdn.com/artworks-pIXpVdIKMRx0cicf-4PzCpA-t500x500.jpg'"
      ]
     },
     "execution_count": 4,
     "metadata": {},
     "output_type": "execute_result"
    }
   ],
   "source": [
    "google_search_image(\"freeze corleone l'attaque des clone\")"
   ]
  },
  {
   "cell_type": "code",
   "execution_count": 3,
   "metadata": {},
   "outputs": [],
   "source": [
    "def get_text_from_url(url: str) -> str:\n",
    "    \"\"\"\n",
    "    get all the text of a webpage from the url\n",
    "    \"\"\"\n",
    "    headers = { 'User-Agent': 'Mozilla/5.0 (X11; Ubuntu; Linux x86_64; rv:52.0) Gecko/20100101 Firefox/52.0' }\n",
    "    html = requests.get(url, headers=headers).text\n",
    "    soup = BeautifulSoup(html, features=\"html.parser\")\n",
    "    text = soup.get_text()\n",
    "    lines = (line.strip() for line in text.splitlines())\n",
    "    return '\\n'.join(line for line in lines if line)\n",
    "\n",
    "function_descriptions = [\n",
    "            {\n",
    "                \"name\": \"get_album_list_from_text\",\n",
    "                \"description\": \"Get a list of album release from a text coming from a webpage\",\n",
    "                \"parameters\": {\n",
    "                    \"type\": \"object\",\n",
    "                    \"properties\": {\n",
    "                        \"albums\": {\n",
    "                            \"type\": \"array\",\n",
    "                            \"description\": \"the name of the released album\",\n",
    "                            \"items\":{\n",
    "                                \"type\":\"object\",\n",
    "                                \"properties\":{\n",
    "                                    \"title\" : {\n",
    "                                        \"type\": \"string\",\n",
    "                                        \"description\" :\"the title of the album\",\n",
    "                                    },\n",
    "                                    \"artist\" : {\n",
    "                                        \"type\": \"string\",\n",
    "                                        \"description\" :\"the artist of the album\",\n",
    "                                    },\n",
    "                                    \"date\" : {\n",
    "                                        \"type\": \"string\",\n",
    "                                        \"description\" :f\"the release date of the album. The date format should be day month year without coma for example 21 May 2023. Add the year {datetime.datetime.now().year} if no year is supplied\",\n",
    "                                    },\n",
    "\n",
    "                                }    \n",
    "                            }\n",
    "                        }\n",
    "                    },\n",
    "                    \"required\": [\"albums\"],\n",
    "                },\n",
    "            },\n",
    "        ] \n",
    "\n",
    "\n",
    "def get_album_list_from_url(url):\n",
    "    \"\"\"\n",
    "    The current function makes two query : one to get the response, one to parse it with function calling\n",
    "    Theoretically everything could be performed in one direct query with function calling but it is not working well at the moment.\n",
    "    My theory is that the function calling structure take parts of the context lenght so that the prompt is truncated and not every albums are returned\n",
    "    I would expect that using gpt4 with function calling would make in work in a single query\n",
    "    \"\"\"\n",
    "    text = get_text_from_url(url)\n",
    "    user_request = f\"\"\"\n",
    "    Can you get a list of all the album releases from this text, for each album give the the title, the artist and the relase date, sort album by descending date. The date format should be day month year without coma for example 21 May 2023: {text}. Add the year {datetime.datetime.now().year} if no year is supplied\n",
    "    \"\"\"\n",
    "    print(num_tokens_from_string(user_request))\n",
    "    non_structured_album_list = LLM.predict_messages([HumanMessage(content=user_request)]).content\n",
    "    #print(non_structured_album_list)\n",
    "    user_request = f\"\"\"\n",
    "    Can you get a list of all the album releases from this text {non_structured_album_list}. The date format should be day month year without coma for example 21 May 2023: {text}. Add the year {datetime.datetime.now().year} if no year is supplied\n",
    "    \"\"\"\n",
    "    print(num_tokens_from_string(user_request))\n",
    "    structured_album_list = LLM_FUNCTION_CALLING.predict_messages([HumanMessage(content=user_request)], functions=function_descriptions)\n",
    "    #print(structured_album_list)\n",
    "    return json.loads(structured_album_list.additional_kwargs[\"function_call\"][\"arguments\"])[\"albums\"]\n",
    "\n",
    "def string_to_timestamp(string, format):\n",
    "    return datetime.datetime.strptime(string, format)\n",
    "\n",
    "def create_playlist_title_from_album(album):\n",
    "    user_request = f\"\"\"creé un titre court pour une playlist spotify qui porte sur l'album : {album[\"title\"]}, et l'artiste {album[\"artist\"]}\"\"\"\n",
    "    playlist_title = LLM.predict_messages([HumanMessage(content=user_request)]).content\n",
    "    return playlist_title\n",
    "\n",
    "def create_playlist_description_from_album(album):\n",
    "    user_request = f\"\"\"Crée un description courte d'une phrase maximum pour un playlist spotify qui porte sur l'album : {album[\"title\"]}, et l'artiste {album[\"artist\"]}\"\"\"\n",
    "    playlist_title = LLM.predict_messages([HumanMessage(content=user_request)]).content\n",
    "    return playlist_title\n",
    "\n",
    "def create_upcoming_release_playlist_candidates_from_url(url):\n",
    "    playlist_candidates= []\n",
    "    album_list = get_album_list_from_url(url)\n",
    "    unreleased_album_list = parse_album_list(album_list)\n",
    "    for a in unreleased_album_list:\n",
    "        title = create_playlist_title_from_album(a)\n",
    "        description= create_playlist_description_from_album(a)\n",
    "        influences = google_search_playlists(f\"{a['artist']}, {a['title']} playlist\")\n",
    "        image = google_search_image(f\"{a['artist']}, {a['title']}\")\n",
    "        playlist_candidates.append({\"title\": title, \"description\": description, \"influences\":\",\".join(influences), \"additional infos\":f\"Playlist created for release {a['title']} by {a['artist']}\", \"image\": image})\n",
    "    return playlist_candidates\n",
    "    \n",
    "    \n",
    "def parse_album_list(album_list):\n",
    "    album_list_with_parsed_date = []\n",
    "    for a in album_list:\n",
    "        date = dateparser.parse(a[\"date\"])\n",
    "        a[\"date\"] = date\n",
    "        # keep only parsable date\n",
    "        if date:\n",
    "            album_list_with_parsed_date.append(a)\n",
    "    unreleased_album_list = [a for a in album_list_with_parsed_date if a[\"date\"]>datetime.datetime.today()]\n",
    "    print(unreleased_album_list)\n",
    "    return unreleased_album_list\n",
    "\n"
   ]
  },
  {
   "cell_type": "code",
   "execution_count": 4,
   "metadata": {},
   "outputs": [
    {
     "name": "stdout",
     "output_type": "stream",
     "text": [
      "1314\n",
      "2146\n",
      "[{'title': \"L'Attaque Des Clones\", 'artist': 'Freeze Corleone', 'date': datetime.datetime(2023, 9, 11, 0, 0)}, {'title': 'ADIEU', 'artist': 'KIK', 'date': datetime.datetime(2023, 9, 8, 0, 0)}]\n"
     ]
    },
    {
     "data": {
      "text/plain": [
       "[{'title': '\"Clone Attack: Freeze Corleone\"',\n",
       "  'description': '\"Plongez dans l\\'univers sombre et captivant de l\\'album \\'L\\'Attaque Des Clones\\' de l\\'artiste Freeze Corleone avec cette playlist intense et percutante.\"',\n",
       "  'influences': 'https://open.spotify.com/playlist/2aFedFncWFocj7fKNeIsBW,https://open.spotify.com/playlist/2Wle1vgoUPgJNv2JAwpGXY,https://open.spotify.com/artist/76Pl0epAMXVXJspaSuz8im',\n",
       "  'additional infos': \"Playlist created for release L'Attaque Des Clones by Freeze Corleone\",\n",
       "  'image': 'https://i1.sndcdn.com/artworks-pIXpVdIKMRx0cicf-4PzCpA-t500x500.jpg'},\n",
       " {'title': '\"ADIEU: KIK\\'s Melodic Farewell\"',\n",
       "  'description': '\"Plongez dans l\\'univers mélancolique et captivant de l\\'artiste KIK avec sa playlist ADIEU, où chaque chanson vous transporte dans un voyage émotionnel unique.\"',\n",
       "  'influences': 'https://open.spotify.com/playlist/37i9dQZF1DZ06evO2h94tp,https://open.spotify.com/playlist/13EmQEpspghofPpx9zT6Ig,https://open.spotify.com/artist/3U0pUvFUMv6gJiTFnXiueY',\n",
       "  'additional infos': 'Playlist created for release ADIEU by KIK',\n",
       "  'image': 'https://linkstorage.linkfire.com/medialinks/images/5425cad3-0de6-4e9c-9d4b-b13b496bab58/artwork-440x440.jpg'}]"
      ]
     },
     "execution_count": 4,
     "metadata": {},
     "output_type": "execute_result"
    }
   ],
   "source": [
    "create_upcoming_release_playlist_candidates_from_url(\"https://www.trackmusik.fr/media/albums-rap-francais\")"
   ]
  },
  {
   "cell_type": "code",
   "execution_count": 7,
   "metadata": {},
   "outputs": [
    {
     "name": "stdout",
     "output_type": "stream",
     "text": [
      "1978\n",
      "2299\n",
      "[{'title': 'Various artists - Yellowjackets season two soundtrack', 'artist': 'Various artists', 'date': datetime.datetime(2023, 9, 1, 0, 0)}, {'title': 'Olivia Rodrigo - GUTS', 'artist': 'Olivia Rodrigo', 'date': datetime.datetime(2023, 9, 8, 0, 0)}, {'title': 'V - Layover', 'artist': 'V', 'date': datetime.datetime(2023, 9, 8, 0, 0)}, {'title': 'Demi Lovato - Revamped', 'artist': 'Demi Lovato', 'date': datetime.datetime(2023, 9, 15, 0, 0)}, {'title': 'Diddy - The Love Album: Off the Grid', 'artist': 'Diddy', 'date': datetime.datetime(2023, 9, 15, 0, 0)}, {'title': 'Kelly Clarkson - Chemistry (Deluxe)', 'artist': 'Kelly Clarkson', 'date': datetime.datetime(2023, 9, 22, 0, 0)}, {'title': 'Kylie Minogue - Tension', 'artist': 'Kylie Minogue', 'date': datetime.datetime(2023, 9, 22, 0, 0)}, {'title': \"Taylor Swift - 1989 (Taylor's Version)\", 'artist': 'Taylor Swift', 'date': datetime.datetime(2023, 10, 27, 0, 0)}, {'title': 'Various artists - A Tribute to The Judds', 'artist': 'Various artists', 'date': datetime.datetime(2023, 10, 27, 0, 0)}, {'title': 'Chris Stapleton - Higher', 'artist': 'Chris Stapleton', 'date': datetime.datetime(2023, 11, 10, 0, 0)}, {'title': 'Dolly Parton - Rockstar', 'artist': 'Dolly Parton', 'date': datetime.datetime(2023, 11, 17, 0, 0)}, {'title': 'Nicki Minaj - Pink Friday 2', 'artist': 'Nicki Minaj', 'date': datetime.datetime(2023, 11, 17, 0, 0)}]\n"
     ]
    },
    {
     "data": {
      "text/plain": [
       "[{'title': '\"Yellowjackets S2 OST: Eclectic Vibes\"',\n",
       "  'description': 'La playlist ultime pour les fans de la série Yellowjackets saison deux, avec la bande originale captivante interprétée par divers artistes.',\n",
       "  'influences': 'https://open.spotify.com/track/3L2LHQIzwLshvWKz07NZv5,https://open.spotify.com/album/1khiHkdRH0RX3dOf2ZTKXY,https://open.spotify.com/album/44MoiIXWGc5WhwB7AJwnCB',\n",
       "  'additional infos': 'Playlist created for release Various artists - Yellowjackets season two soundtrack by Various artists',\n",
       "  'image': 'https://img.broadtime.com/418467253006:500.webp'},\n",
       " {'title': '\"GUTS: Olivia Rodrigo\\'s Musical Journey\"',\n",
       "  'description': '\"Plongez dans l\\'univers émotionnellement puissant d\\'Olivia Rodrigo avec son album GUTS, où sa voix captivante et ses paroles sincères vous transportent dans un voyage introspectif.\"',\n",
       "  'influences': 'https://open.spotify.com/playlist/4aurFBWbfxIOae2vkkdAP9,https://open.spotify.com/artist/1McMsnEElThX1knmY4oliG,https://open.spotify.com/playlist/37i9dQZF1EIV5ihzgPnqBl',\n",
       "  'additional infos': 'Playlist created for release Olivia Rodrigo - GUTS by Olivia Rodrigo',\n",
       "  'image': 'https://target.scene7.com/is/image/Target/GUEST_2676f28a-b8fc-4101-a258-78ecea73caac?wid=488&hei=488&fmt=pjpeg'},\n",
       " {'title': '\"V\\'s Layover Journey\"',\n",
       "  'description': '\"Plongez dans l\\'univers envoûtant de V avec son album \\'Layover\\' : une playlist qui vous transporte dans un voyage musical captivant.\"',\n",
       "  'influences': 'https://open.spotify.com/playlist/0Z3HoH5iqOVfwl0wtOAOmW,https://open.spotify.com/playlist/423V2mQxHLFP3NbUGE6A2W,https://open.spotify.com/playlist/4ft2NIXRbNFeCxepTOMHlz',\n",
       "  'additional infos': 'Playlist created for release V - Layover by V',\n",
       "  'image': 'https://target.scene7.com/is/image/Target/GUEST_d7bd7a0f-e011-41c3-af0f-c6a38bcf2c12?wid=488&hei=488&fmt=pjpeg'},\n",
       " {'title': '\"Revamped: Demi Lovato\\'s Ultimate Playlist\"',\n",
       "  'description': '\"Plongez dans l\\'univers puissant et émouvant de Demi Lovato avec son album \\'Revamped\\'. Découvrez ses hits incontournables et ses nouvelles versions captivantes, pour une expérience musicale intense et inspirante.\"',\n",
       "  'influences': 'https://open.spotify.com/artist/6S2OmqARrzebs0tKUEyXyp,https://open.spotify.com/playlist/4TvHsIqIN30f6pHX179A6d,https://open.spotify.com/playlist/0511xJj3C9JERFuFK4J5gb',\n",
       "  'additional infos': 'Playlist created for release Demi Lovato - Revamped by Demi Lovato',\n",
       "  'image': 'https://shop.demilovato.com/cdn/shop/files/Demi_CD_Mock_square_4b9b040f-8d8c-4a68-9f46-70b215ae4d24_470x.png?v=1689336650'},\n",
       " {'title': '\"Off the Grid Love: Diddy\\'s Playlist\"',\n",
       "  'description': 'Une playlist envoûtante qui met en valeur l\\'album \"The Love Album: Off the Grid\" de Diddy, l\\'artiste emblématique de la musique hip-hop.',\n",
       "  'influences': 'https://open.spotify.com/show/0u8NBMvWajLvc66r9NsJJs,https://open.spotify.com/track/6tDHvBGdbRktBD1YV4Q3Su?autoplay=true,https://open.spotify.com/artist/56IV1D1ol0hUvVvP5y6I2X',\n",
       "  'additional infos': 'Playlist created for release Diddy - The Love Album: Off the Grid by Diddy',\n",
       "  'image': 'https://www.nme.com/wp-content/uploads/2023/08/diddy@2000x1270-696x442.jpg'},\n",
       " {'title': '\"Chemistry Deluxe: Kelly Clarkson\\'s Ultimate Playlist\"',\n",
       "  'description': 'Découvrez l\\'incroyable talent vocal de Kelly Clarkson à travers son album \"Chemistry (Deluxe)\" sur cette playlist Spotify.',\n",
       "  'influences': 'https://open.spotify.com/playlist/3YAkLacJ9czdabJjk4iLQD,https://open.spotify.com/artist/3BmGtnKgCSGYIUhmivXKWX,https://open.spotify.com/track/5tHhzwooezatUFA0jZ9aC1',\n",
       "  'additional infos': 'Playlist created for release Kelly Clarkson - Chemistry (Deluxe) by Kelly Clarkson',\n",
       "  'image': 'https://www.kellyclarksonmerch.com/dw/image/v2/BHCC_PRD/on/demandware.static/-/Sites-warner-master/default/dwa030880c/KELLY%20CLARKSON/KC-ChemistryDeluxe_Product_Music-POD.png?sw=550&sh=550&sm=fit'},\n",
       " {'title': '\"Tension: Kylie Minogue\\'s Electrifying Playlist\"',\n",
       "  'description': '\"Plongez dans l\\'univers électrisant de Kylie Minogue avec son album \\'Tension\\' : une playlist qui vous fera danser et vibrer au rythme des hits de cette icône de la pop.\"',\n",
       "  'influences': 'https://open.spotify.com/playlist/0koMMyLS8JyB5rHRAqCH3d,https://open.spotify.com/playlist/2kynOePTGBuCULGcQZSAaZ,https://open.spotify.com/playlist/5kBXb0o2dMIh1gGSoSeT1D',\n",
       "  'additional infos': 'Playlist created for release Kylie Minogue - Tension by Kylie Minogue',\n",
       "  'image': 'https://www.kylie.com/_assets2/images/Vinyl-silver.png'},\n",
       " {'title': '\"1989 (Taylor\\'s Version): Taylor Swift Rewind\"',\n",
       "  'description': 'Plongez dans l\\'univers rétro et captivant de Taylor Swift avec son album \"1989 (Taylor\\'s Version)\" où elle revisite ses plus grands succès avec une touche de nostalgie et d\\'authenticité.',\n",
       "  'influences': 'https://open.spotify.com/playlist/4sFuHQ9zRqeuZ1Q5kcZJTI,https://open.spotify.com/playlist/47xO3d47NZSm5LTuAFEZ0j,https://open.spotify.com/playlist/6AFPqWVWAz2bKD8yxHDYXR',\n",
       "  'additional infos': \"Playlist created for release Taylor Swift - 1989 (Taylor's Version) by Taylor Swift\",\n",
       "  'image': 'https://imageio.forbes.com/specials-images/imageserve/64d4aa94568324718fd9eed6/The-Final-Night-Of-Taylor-Swift---The-Eras-Tour---Los-Angeles--CA/0x0.jpg?crop=5000,2815,x0,y122,safe&height=400&width=711&fit=bounds'},\n",
       " {'title': '\"Hommage aux Judds : Various Artists\"',\n",
       "  'description': '\"Une playlist émouvante et nostalgique rendant hommage à l\\'album \\'A Tribute to The Judds\\' par Various artists.\"',\n",
       "  'influences': 'https://open.spotify.com/show/6XYvzprNIU7VnVr9obac7O,https://open.spotify.com/artist/7dmeVSH4lJqxXU7C87dKIB,https://open.spotify.com/show/43EofMf6uRtsBH4YUPYCXb',\n",
       "  'additional infos': 'Playlist created for release Various artists - A Tribute to The Judds by Various artists',\n",
       "  'image': 'https://static.wixstatic.com/media/a08b34_2b56e91ad7094010aec6a0b106e6f4fe~mv2.png/v1/fill/w_640,h_360,al_c,q_85,usm_0.66_1.00_0.01,enc_auto/a08b34_2b56e91ad7094010aec6a0b106e6f4fe~mv2.png'},\n",
       " {'title': '\"Higher: Chris Stapleton\\'s Soulful Journey\"',\n",
       "  'description': '\"Plongez dans l\\'univers authentique et envoûtant de Chris Stapleton avec son album \\'Higher\\'. Laissez-vous transporter par sa voix puissante et ses mélodies country-rock intemporelles.\"',\n",
       "  'influences': 'https://open.spotify.com/playlist/2G54DG9ZbdIUnVBUmYEmjM,https://open.spotify.com/playlist/37i9dQZF1DZ06evO2Vjk40,https://open.spotify.com/artist/4YLtscXsxbVgi031ovDDdh',\n",
       "  'additional infos': 'Playlist created for release Chris Stapleton - Higher by Chris Stapleton',\n",
       "  'image': 'https://americansongwriter.com/wp-content/uploads/2023/07/chris_stapleton_cover.jpg?w=662'},\n",
       " {'title': '\"Rockstar: Dolly Parton\\'s Greatest Hits\"',\n",
       "  'description': '\"Une playlist envoûtante mettant en valeur l\\'album Rockstar de Dolly Parton, l\\'icône de la musique country qui captive les auditeurs avec sa voix puissante et ses paroles inspirantes.\"',\n",
       "  'influences': 'https://open.spotify.com/playlist/5MVexsLwLMubhojHLJxdDH,https://open.spotify.com/artist/32vWCbZh0xZ4o9gkz4PsEU,https://open.spotify.com/playlist/51yasXwLyGbAG0hwUEYPfZ',\n",
       "  'additional infos': 'Playlist created for release Dolly Parton - Rockstar by Dolly Parton',\n",
       "  'image': 'https://upload.wikimedia.org/wikipedia/en/2/2a/Dolly_Parton_-_Rockstar.jpg'},\n",
       " {'title': '\"Pink Friday 2: Nicki\\'s Epic Journey\"',\n",
       "  'description': '\"Plongez dans l\\'univers audacieux et captivant de Nicki Minaj avec son album incontournable Pink Friday 2, regorgeant de hits et de sa personnalité unique.\"',\n",
       "  'influences': 'https://open.spotify.com/artist/0hCNtLu0JehylgoiP8L4Gh,https://open.spotify.com/playlist/3Z8V9NySjfDDCNvLsbD19h,https://open.spotify.com/playlist/37i9dQZF1E4yHs4ZMShnYz',\n",
       "  'additional infos': 'Playlist created for release Nicki Minaj - Pink Friday 2 by Nicki Minaj',\n",
       "  'image': 'https://imgs.capitalfm.com/images/588173?crop=16_9&width=660&relax=1&format=webp&signature=haAuE6aueqcW97KYKytfn-Rojto='}]"
      ]
     },
     "execution_count": 7,
     "metadata": {},
     "output_type": "execute_result"
    }
   ],
   "source": [
    "create_upcoming_release_playlist_candidates_from_url(\"https://www.billboard.com/lists/new-albums-2023-calendar-new-music-releases-this-year/june-3/\")"
   ]
  },
  {
   "cell_type": "code",
   "execution_count": null,
   "metadata": {},
   "outputs": [],
   "source": []
  }
 ],
 "metadata": {
  "kernelspec": {
   "display_name": "playswapAgents",
   "language": "python",
   "name": "python3"
  },
  "language_info": {
   "codemirror_mode": {
    "name": "ipython",
    "version": 3
   },
   "file_extension": ".py",
   "mimetype": "text/x-python",
   "name": "python",
   "nbconvert_exporter": "python",
   "pygments_lexer": "ipython3",
   "version": "3.11.4"
  },
  "orig_nbformat": 4
 },
 "nbformat": 4,
 "nbformat_minor": 2
}
